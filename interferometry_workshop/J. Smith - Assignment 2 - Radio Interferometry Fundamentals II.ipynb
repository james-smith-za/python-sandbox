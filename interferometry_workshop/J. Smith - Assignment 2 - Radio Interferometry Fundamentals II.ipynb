{
 "metadata": {
  "name": ""
 },
 "nbformat": 3,
 "nbformat_minor": 0,
 "worksheets": [
  {
   "cells": [
    {
     "cell_type": "code",
     "collapsed": false,
     "input": [
      "import numpy as np\n",
      "import matplotlib\n",
      "%matplotlib inline"
     ],
     "language": "python",
     "metadata": {},
     "outputs": [],
     "prompt_number": 25
    },
    {
     "cell_type": "heading",
     "level": 1,
     "metadata": {},
     "source": [
      "1.1 FITS images"
     ]
    },
    {
     "cell_type": "markdown",
     "metadata": {},
     "source": [
      "<b>1.</b> Calculate the angular limits $l_{max}$, $l_{min}$, $m_{max}$, and $m_{min}$ of the raster image in figure 1. Assume that the green point is the centre of the $lm$-plane. Express answers in arcseconds and degrees."
     ]
    },
    {
     "cell_type": "raw",
     "metadata": {},
     "source": [
      "Figure 1 is a 10x10 grid where the squares are each 5 arcseconds. (0,0) is in the centre.\n",
      "Therefore, the l_min and m_min are both -25 arcseconds, and the l_max and m_max are both 25 arcseconds?"
     ]
    },
    {
     "cell_type": "markdown",
     "metadata": {},
     "source": [
      "<b>2.</b>  What is the solid angle $\\Omega_{sphere}$ subtended by the celestial sphere? What is the solid angle subtended by this image $\\Omega_{image}$ (assume that the field $\\Omega_{image}$ of view is small)? What is $\\frac{\\Omega_{sphere}}{\\Omega_{image}}$?"
     ]
    },
    {
     "cell_type": "code",
     "collapsed": false,
     "input": [
      "print 'The celestial sphere is 4pi (%f) steradians.'%(4*np.pi)\n",
      "print 'A square degree is (pi/180)^2 (%f) steradians.'%(np.square(np.pi/180))"
     ],
     "language": "python",
     "metadata": {},
     "outputs": [
      {
       "output_type": "stream",
       "stream": "stdout",
       "text": [
        "The celestial sphere is 4pi (12.566371) steradians.\n",
        "A square degree is (pi/180)^2 (0.000305) steradians.\n"
       ]
      }
     ],
     "prompt_number": 6
    },
    {
     "cell_type": "raw",
     "metadata": {},
     "source": [
      "We're looking at about (50 arcseconds)^2."
     ]
    },
    {
     "cell_type": "code",
     "collapsed": false,
     "input": [
      "arcseconds = 50.0\n",
      "arcminutes = arcseconds/60\n",
      "degrees = arcminutes/60\n",
      "square_degrees = np.square(degrees)\n",
      "steradians = square_degrees*np.square(np.pi/180)\n",
      "print 'The image is %g square degrees, and %g steradians.'%(square_degrees, steradians)\n",
      "\n",
      "fraction = steradians/(4*np.pi)\n",
      "print 'The image is %g of the entire celestial sphere.'%(fraction)"
     ],
     "language": "python",
     "metadata": {},
     "outputs": [
      {
       "output_type": "stream",
       "stream": "stdout",
       "text": [
        "The image is 0.000192901 square degrees, and 5.87611e-08 steradians.\n",
        "The image is 4.67606e-09 of the entire celestial sphere.\n"
       ]
      }
     ],
     "prompt_number": 15
    },
    {
     "cell_type": "markdown",
     "metadata": {},
     "source": [
      "<b>3.</b>  How many pixels do you require if you wanted to produce a figure that stretched from \u22121\u25e6 to 1\u25e6 in the l and m direction? Express your answer\n",
      "as X \u00d7 Y .\n"
     ]
    },
    {
     "cell_type": "code",
     "collapsed": false,
     "input": [
      "resolution = 2*3600/5\n",
      "print '%d x %d pixels would be needed to produce a 2 degree x 2 degree figure.'%(resolution, resolution)"
     ],
     "language": "python",
     "metadata": {},
     "outputs": [
      {
       "output_type": "stream",
       "stream": "stdout",
       "text": [
        "1440 x 1440 pixels would be needed to produce a 2 degree x 2 degree figure.\n"
       ]
      }
     ],
     "prompt_number": 17
    },
    {
     "cell_type": "markdown",
     "metadata": {},
     "source": [
      "<b>4.</b>  How large would each cell be if the total angular dimension of your image was 720 \u00d7 720 and you had 1024 \u00d7 1024 pixels at your disposal? Express your answer as: \u2206lc \u00d7 \u2206mc .\n"
     ]
    },
    {
     "cell_type": "code",
     "collapsed": false,
     "input": [
      "pixel_size = 720.0 / 1024.0\n",
      "print 'Each cell would be %f x %f arcseconds.'%(pixel_size, pixel_size)"
     ],
     "language": "python",
     "metadata": {},
     "outputs": [
      {
       "output_type": "stream",
       "stream": "stdout",
       "text": [
        "Each cell would be 0.703125 x 0.703125 arcseconds.\n"
       ]
      }
     ],
     "prompt_number": 20
    },
    {
     "cell_type": "heading",
     "level": 1,
     "metadata": {},
     "source": [
      "1.2 Basic properties of an interferometer"
     ]
    },
    {
     "cell_type": "markdown",
     "metadata": {},
     "source": [
      "<b>1.</b> How many baselines does the interferometer have?"
     ]
    },
    {
     "cell_type": "code",
     "collapsed": false,
     "input": [
      "n_antennas = 7\n",
      "n_baselines = n_antennas*(n_antennas - 1)/2\n",
      "print 'Number of baselines: %d'%(n_baselines)"
     ],
     "language": "python",
     "metadata": {},
     "outputs": [
      {
       "output_type": "stream",
       "stream": "stdout",
       "text": [
        "Number of baselines: 21\n"
       ]
      }
     ],
     "prompt_number": 22
    },
    {
     "cell_type": "markdown",
     "metadata": {},
     "source": [
      "<b>2.</b>  Determine the approximate size of the primary beam (full width half maximum beamwidth) of the interferometer."
     ]
    },
    {
     "cell_type": "raw",
     "metadata": {},
     "source": [
      "FWHM ~ 1.2 lambda / D for a round antenna."
     ]
    },
    {
     "cell_type": "code",
     "collapsed": false,
     "input": [
      "c = 3e8\n",
      "dish_diameter = 12\n",
      "frequency = np.linspace(1.4e9, 1.95e9, 100)\n",
      "wavelength = c / frequency\n",
      "beamwidth = 1.2*wavelength/dish_diameter\n",
      "\n",
      "matplotlib.pyplot.plot(wavelength, beamwidth)"
     ],
     "language": "python",
     "metadata": {},
     "outputs": [
      {
       "metadata": {},
       "output_type": "pyout",
       "prompt_number": 28,
       "text": [
        "[<matplotlib.lines.Line2D at 0x7fa35a24b690>]"
       ]
      },
      {
       "metadata": {},
       "output_type": "display_data",
       "png": "[encoded data removed]",
       "text": [
        "<matplotlib.figure.Figure at 0x7fa35a4e9bd0>"
       ]
      }
     ],
     "prompt_number": 28
    },
    {
     "cell_type": "code",
     "collapsed": false,
     "input": [
      "centre_frequency = (1.4e9 + 1.9e9) / 2\n",
      "centre_wavelength = c / centre_frequency\n",
      "centre_beamwidth = 1.2*centre_wavelength/dish_diameter\n",
      "print 'FWHM at centre frequency is %f radians, %f degrees.'%(centre_beamwidth, centre_beamwidth / np.pi * 180)"
     ],
     "language": "python",
     "metadata": {},
     "outputs": [
      {
       "output_type": "stream",
       "stream": "stdout",
       "text": [
        "FWHM at centre frequency is 0.018182 radians, 1.041741 degrees.\n"
       ]
      }
     ],
     "prompt_number": 32
    },
    {
     "cell_type": "markdown",
     "metadata": {},
     "source": [
      "<b>3.</b>  Determine the angular resolution of the interferometer."
     ]
    },
    {
     "cell_type": "code",
     "collapsed": false,
     "input": [
      "longest_baseline = 185\n",
      "interferometer_resolution = centre_wavelength / longest_baseline\n",
      "print 'Interferometer resolution is %f radians, %f degrees.'%(interferometer_resolution, interferometer_resolution / np.pi * 180)"
     ],
     "language": "python",
     "metadata": {},
     "outputs": [
      {
       "output_type": "stream",
       "stream": "stdout",
       "text": [
        "Interferometer resolution is 0.000983 radians, 0.056310 degrees.\n"
       ]
      }
     ],
     "prompt_number": 33
    },
    {
     "cell_type": "markdown",
     "metadata": {},
     "source": [
      "<b>4.</b>  Determine the maximum angular radius \u2206\u03b8 a source can be from the\n",
      "field center and not be heavily attenuated by the fringe washing function?"
     ]
    },
    {
     "cell_type": "code",
     "collapsed": false,
     "input": [],
     "language": "python",
     "metadata": {},
     "outputs": [],
     "prompt_number": 33
    },
    {
     "cell_type": "markdown",
     "metadata": {},
     "source": [
      "<b>5.</b>  Determine the maximum integration time \u2206t that the correlator may use if you want to prevent time smearing (within the maximum angular radius\n",
      "given by your fringe washing function).\n"
     ]
    },
    {
     "cell_type": "code",
     "collapsed": false,
     "input": [],
     "language": "python",
     "metadata": {},
     "outputs": [],
     "prompt_number": 33
    },
    {
     "cell_type": "markdown",
     "metadata": {},
     "source": [
      "<b>6.</b> Determine the field of view \u2206\u03b8F in which we may assume that the w-term is negligible."
     ]
    },
    {
     "cell_type": "code",
     "collapsed": false,
     "input": [],
     "language": "python",
     "metadata": {},
     "outputs": [],
     "prompt_number": 33
    },
    {
     "cell_type": "markdown",
     "metadata": {},
     "source": [
      "<b>7.</b> Represent \u03b8p, \u03b8s , \u2206\u03b8 and \u2206\u03b8F graphically (in one figure)."
     ]
    },
    {
     "cell_type": "code",
     "collapsed": false,
     "input": [],
     "language": "python",
     "metadata": {},
     "outputs": []
    }
   ],
   "metadata": {}
  }
 ]
}