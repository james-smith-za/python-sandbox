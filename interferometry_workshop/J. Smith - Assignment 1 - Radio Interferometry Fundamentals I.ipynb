{
 "metadata": {
  "name": ""
 },
 "nbformat": 3,
 "nbformat_minor": 0,
 "worksheets": [
  {
   "cells": [
    {
     "cell_type": "heading",
     "level": 1,
     "metadata": {},
     "source": [
      "1.1 Orion"
     ]
    },
    {
     "cell_type": "markdown",
     "metadata": {},
     "source": [
      "<b>1</b>. Calculate the l and m coordinates of Orion\u2019s center, Betelgeuse and Rigel?<br>\n",
      "Assume that your field center was chosen to coincide with Orion\u2019s center.\n"
     ]
    },
    {
     "cell_type": "code",
     "collapsed": false,
     "input": [
      "import numpy as np"
     ],
     "language": "python",
     "metadata": {},
     "outputs": [],
     "prompt_number": 4
    },
    {
     "cell_type": "code",
     "collapsed": false,
     "input": [
      "orion_centre_ra = (5. + 30./60)*15/180*np.pi\n",
      "orion_centre_dec = 0."
     ],
     "language": "python",
     "metadata": {},
     "outputs": [],
     "prompt_number": 3
    },
    {
     "cell_type": "markdown",
     "metadata": {},
     "source": [
      "<em>Centre's l,m co-ordinates are (0,0). I think this should be fairly obvious...</em>"
     ]
    },
    {
     "cell_type": "code",
     "collapsed": false,
     "input": [
      "betelgeuse_ra = (5. + 55./60 + 10.3053/3600)*15/180*np.pi\n",
      "betelgeuse_dec = (7. + 24./60 + 25.426/3600)/180*np.pi\n",
      "betelgeuse_dela = betelgeuse_ra - orion_centre_ra\n",
      "betelgeuse_l = np.cos(betelgeuse_dec)*np.sin(betelgeuse_dela)\n",
      "betelgeuse_m = np.sin(betelgeuse_dec)*np.cos(orion_centre_dec) - np.cos(betelgeuse_dec)*np.sin(orion_centre_dec)*np.cos(betelgeuse_dela)"
     ],
     "language": "python",
     "metadata": {},
     "outputs": [],
     "prompt_number": 22
    },
    {
     "cell_type": "code",
     "collapsed": false,
     "input": [
      "rigel_ra = (5. + 14./60 + 32.272/3600)*15/180*np.pi\n",
      "rigel_dec = (-8. - 12./60 - 5.898/3600)/180*np.pi\n",
      "rigel_dela = rigel_ra - orion_centre_ra\n",
      "rigel_l = np.cos(rigel_dec)*np.sin(rigel_dela)\n",
      "rigel_m = np.sin(rigel_dec)*np.cos(orion_centre_dec) - np.cos(rigel_dec)*np.sin(orion_centre_dec)*np.cos(rigel_dela)"
     ],
     "language": "python",
     "metadata": {},
     "outputs": [],
     "prompt_number": 23
    },
    {
     "cell_type": "code",
     "collapsed": false,
     "input": [
      "print 'Betelgeuse l: %f degrees'%(betelgeuse_l / np.pi * 180)\n",
      "print 'Betelgeuse m: %f degrees'%(betelgeuse_m / np.pi * 180)\n",
      "print 'Rigel l: %f degrees'%(rigel_l / np.pi * 180)\n",
      "print 'Rigel m: %f degrees'%(rigel_m / np.pi * 180)"
     ],
     "language": "python",
     "metadata": {},
     "outputs": [
      {
       "output_type": "stream",
       "stream": "stdout",
       "text": [
        "Betelgeuse l: 6.227887 degrees\n",
        "Betelgeuse m: 7.386448 degrees\n",
        "Rigel l: -3.823095 degrees\n",
        "Rigel m: -8.173658 degrees\n"
       ]
      }
     ],
     "prompt_number": 24
    },
    {
     "cell_type": "markdown",
     "metadata": {},
     "source": [
      "<b>2.</b> What is the distance from the field center to Betelgeuse in the projected lm-plane?\n"
     ]
    },
    {
     "cell_type": "code",
     "collapsed": false,
     "input": [
      "betelgeuse_d = np.sqrt(np.square(betelgeuse_l) + np.square(betelgeuse_m))"
     ],
     "language": "python",
     "metadata": {},
     "outputs": [],
     "prompt_number": 25
    },
    {
     "cell_type": "code",
     "collapsed": false,
     "input": [
      "print 'Distance: %f degrees'%(betelgeuse_d / np.pi * 180)"
     ],
     "language": "python",
     "metadata": {},
     "outputs": [
      {
       "output_type": "stream",
       "stream": "stdout",
       "text": [
        "Distance: 9.661583 degrees\n"
       ]
      }
     ],
     "prompt_number": 26
    },
    {
     "cell_type": "markdown",
     "metadata": {},
     "source": [
      "<b>3.</b> What is the angular distance from the field center to Betelgeuse on the celestial sphere?"
     ]
    },
    {
     "cell_type": "code",
     "collapsed": false,
     "input": [
      "betelgeuse_theta = np.arcsin(np.sqrt(np.square(betelgeuse_l) + np.square(betelgeuse_m)))"
     ],
     "language": "python",
     "metadata": {},
     "outputs": [],
     "prompt_number": 27
    },
    {
     "cell_type": "code",
     "collapsed": false,
     "input": [
      "print 'Angular distance: %f degrees'%(betelgeuse_theta / np.pi * 180)"
     ],
     "language": "python",
     "metadata": {},
     "outputs": [
      {
       "output_type": "stream",
       "stream": "stdout",
       "text": [
        "Angular distance: 9.707967 degrees\n"
       ]
      }
     ],
     "prompt_number": 28
    },
    {
     "cell_type": "markdown",
     "metadata": {},
     "source": [
      "<b>4.</b>  Verify the previous question by using the equatorial coordinates directly (stay on the celestial sphere)?"
     ]
    },
    {
     "cell_type": "raw",
     "metadata": {},
     "source": [
      "No clue as yet how to accomplish this.\n",
      "\n",
      "cos(A)cos(B) = cos(\"hypotenuse\") - technically there should be a /R on each of the angles, but we assume the celestial sphere has unity radius."
     ]
    },
    {
     "cell_type": "markdown",
     "metadata": {},
     "source": [
      "<b>5.</b> Why do we measure l and m in degrees if they are direction cosines and therefore by definition unit-less?"
     ]
    },
    {
     "cell_type": "markdown",
     "metadata": {},
     "source": [
      "My guess would be that they're numerically almost identical, so perhaps just for convenience? Lacking insight into this at the moment."
     ]
    },
    {
     "cell_type": "markdown",
     "metadata": {},
     "source": [
      "<b>6.</b> What will the hour angle of Orion\u2019s center be when it appear above the horizon? In which direction will Orion\u2019s center appear?"
     ]
    },
    {
     "cell_type": "raw",
     "metadata": {},
     "source": [
      "Am I misunderstanding this? Surely if you're using Orion's centre as your reference point, it'll appear above the horizon at about -06h00? In the easterly direction? (Though this will depend on your latitude.)"
     ]
    },
    {
     "cell_type": "heading",
     "level": 1,
     "metadata": {},
     "source": [
      "1.2 Papino and Paperino"
     ]
    },
    {
     "cell_type": "markdown",
     "metadata": {},
     "source": [
      "<b>1.</b>  Calculate the l and m coordinates of Papino and Paperino? Assume Papino and the field-center coincide. Express your answer in radians.\n"
     ]
    },
    {
     "cell_type": "code",
     "collapsed": false,
     "input": [
      "papino_ra = (-4. - 44./60 - 6.686/3600)*15/180*np.pi\n",
      "papino_dec = (-74. - 39./60 - 37.481/3600)/180*np.pi\n",
      "papino_flux = 1.\n",
      "paperino_ra = (-4. - 44./60 - 6.686/3600)*15/180*np.pi\n",
      "paperino_dec = (-73. - 39./60 - 37.298/3600)/180*np.pi\n",
      "paperino_flux = 0.2"
     ],
     "language": "python",
     "metadata": {},
     "outputs": [],
     "prompt_number": 132
    },
    {
     "cell_type": "code",
     "collapsed": false,
     "input": [
      "paperino_dela = paperino_ra - papino_ra\n",
      "paperino_l = np.cos(paperino_dec)*np.sin(paperino_dela)\n",
      "paperino_m = np.sin(paperino_dec)*np.cos(papino_dec) - np.cos(paperino_dec)*np.sin(papino_dec)*np.cos(paperino_dela)"
     ],
     "language": "python",
     "metadata": {},
     "outputs": [],
     "prompt_number": 133
    },
    {
     "cell_type": "code",
     "collapsed": false,
     "input": [
      "print 'Papino l,m = 0,0 as it\\'s taken at the centre'\n",
      "print 'Paperino l: %f radians'%(paperino_l)\n",
      "print 'Paperino m: %f radians'%(paperino_m)"
     ],
     "language": "python",
     "metadata": {},
     "outputs": [
      {
       "output_type": "stream",
       "stream": "stdout",
       "text": [
        "Papino l,m = 0,0 as it's taken at the centre\n",
        "Paperino l: 0.000000 radians\n",
        "Paperino m: 0.017453 radians\n"
       ]
      }
     ],
     "prompt_number": 134
    },
    {
     "cell_type": "raw",
     "metadata": {},
     "source": [
      "Note: That's tiny... is this to demonstrate that interferometry increases your resolution?\n",
      "Trienko's comment: It's one degree, so it's not that tiny. The thing that was supposed to be interesting was the \"vertical\" arrangement of the two stars. This produces a certain fringe pattern which is sine-waves running up and down, with u=constant lines having constant values."
     ]
    },
    {
     "cell_type": "markdown",
     "metadata": {},
     "source": [
      "<b>2.</b>  Write down an equation that completely describes this fictitious sky by assuming Papino and Paperino are perfect point sources (i.e. I(l, m))?\n"
     ]
    },
    {
     "cell_type": "raw",
     "metadata": {},
     "source": [
      "I(l,m) = 1*delta(l,m) + 0.2*delta(l,m-0.017453)"
     ]
    },
    {
     "cell_type": "markdown",
     "metadata": {},
     "source": [
      "<b>3.</b>  Find the expression of the complex visibilities V (u, v) that we would observe with an ideal interferometer (an interferometer that could sample the entire uv-plane).\n"
     ]
    },
    {
     "cell_type": "raw",
     "metadata": {},
     "source": [
      "V(u,v) = 1 + 0.2*exp(-2*pi*i*(0.017453v))    (since u=v=0 for Papino, the exp factor dissapears)"
     ]
    },
    {
     "cell_type": "markdown",
     "metadata": {},
     "source": [
      "<b>4.</b> Calculate V (v) = V (0, v), i.e. the cross section of V (u, v) with the plane u = 0?"
     ]
    },
    {
     "cell_type": "raw",
     "metadata": {},
     "source": [
      "Setting u = 0:\n",
      "V(v) = 1 + 0.2*exp(-2*pi*i*0.017453v)\n",
      "     = 1 + 0.2*(cos(2*pi*0.017453v) + i*sin(2*pi*0.017453v))"
     ]
    },
    {
     "cell_type": "heading",
     "level": 1,
     "metadata": {},
     "source": [
      "1.3 KAT-7"
     ]
    },
    {
     "cell_type": "code",
     "collapsed": false,
     "input": [
      "import matplotlib\n",
      "%matplotlib inline"
     ],
     "language": "python",
     "metadata": {},
     "outputs": [],
     "prompt_number": 135
    },
    {
     "cell_type": "code",
     "collapsed": false,
     "input": [
      "antennas = [[      0,      0,      0], # Origin of ENU box \n",
      "            [ 25.095, -9.095,  0.045],\n",
      "            [ 90.284, 26.380, -0.226],\n",
      "            [  3.985, 26.839,  0.000],\n",
      "            [-21.605, 25.494,  0.019],\n",
      "            [-38.272, -2.582,  0.391],\n",
      "            [-61.595,-79.699,  0.792],\n",
      "            [-87.988, 75.754,  0.138]]\n",
      "antennas = np.array(antennas)"
     ],
     "language": "python",
     "metadata": {},
     "outputs": [],
     "prompt_number": 136
    },
    {
     "cell_type": "code",
     "collapsed": false,
     "input": [
      "# So we can get an idea of what KAT7 looks like...\n",
      "matplotlib.pyplot.scatter(antennas[1:8,0:1], antennas[1:8,1:2])\n",
      "matplotlib.pyplot.grid('on')"
     ],
     "language": "python",
     "metadata": {},
     "outputs": [
      {
       "metadata": {},
       "output_type": "display_data",
       "png": "[encoded data removed]",
       "text": [
        "<matplotlib.figure.Figure at 0x7f74b0118f10>"
       ]
      }
     ],
     "prompt_number": 137
    },
    {
     "cell_type": "markdown",
     "metadata": {},
     "source": [
      "<b>1.</b>Calculate the ENU baseline difference vector $b^{xyz}$ of baseline 12?"
     ]
    },
    {
     "cell_type": "code",
     "collapsed": false,
     "input": [
      "baseline_12 = antennas[2] - antennas[1]"
     ],
     "language": "python",
     "metadata": {},
     "outputs": [],
     "prompt_number": 138
    },
    {
     "cell_type": "markdown",
     "metadata": {},
     "source": [
      "<b>2.</b> Calculate the azimuth angle $A_{12}$ and the elevation (altitude) angle $E_{12}$ of $b_{12}^{xyz}$?"
     ]
    },
    {
     "cell_type": "code",
     "collapsed": false,
     "input": [
      "azimuth_angle_12 = np.arctan(baseline_12[0]/baseline_12[1])\n",
      "horizontal_distance_12 = np.sqrt(np.square(baseline_12[0]) + np.square(baseline_12[1]))\n",
      "elevation_angle_12 = np.arctan(baseline_12[2]/horizontal_distance_12)"
     ],
     "language": "python",
     "metadata": {},
     "outputs": [],
     "prompt_number": 139
    },
    {
     "cell_type": "code",
     "collapsed": false,
     "input": [
      "print 'A_12 angle: %f degrees'%(azimuth_angle_12 / np.pi * 180)\n",
      "print 'E_12 angle: %f degrees'%(elevation_angle_12/ np.pi * 180)"
     ],
     "language": "python",
     "metadata": {},
     "outputs": [
      {
       "output_type": "stream",
       "stream": "stdout",
       "text": [
        "A_12 angle: 61.445547 degrees\n",
        "E_12 angle: -0.209214 degrees\n"
       ]
      }
     ],
     "prompt_number": 140
    },
    {
     "cell_type": "markdown",
     "metadata": {},
     "source": [
      "<b>3.</b> Calculate the length $D_{12}$ of $b_{12}^{XYZ}$?"
     ]
    },
    {
     "cell_type": "code",
     "collapsed": false,
     "input": [
      "distance_12 = np.sqrt(np.square(baseline_12[0]) + np.square(baseline_12[1]) + np.square(baseline_12[2]) ) "
     ],
     "language": "python",
     "metadata": {},
     "outputs": [],
     "prompt_number": 141
    },
    {
     "cell_type": "code",
     "collapsed": false,
     "input": [
      "print 'D_12: %f metres'%(distance_12)"
     ],
     "language": "python",
     "metadata": {},
     "outputs": [
      {
       "output_type": "stream",
       "stream": "stdout",
       "text": [
        "D_12: 74.216944 metres\n"
       ]
      }
     ],
     "prompt_number": 142
    },
    {
     "cell_type": "markdown",
     "metadata": {},
     "source": [
      "<b>4.</b> Calculate $b_{12}^{XYZ} = \\begin{bmatrix}X_{12} \\\\ Y_{12} \\\\ Z_{12}\\end{bmatrix}$"
     ]
    },
    {
     "cell_type": "code",
     "collapsed": false,
     "input": [
      "L = (-30. - 43./60 - 17.34/3600)/180*np.pi # Latitude"
     ],
     "language": "python",
     "metadata": {},
     "outputs": [],
     "prompt_number": 143
    },
    {
     "cell_type": "code",
     "collapsed": false,
     "input": [
      "X_12 = distance_12*(np.cos(L)*np.sin(elevation_angle_12) - np.sin(L)*np.cos(elevation_angle_12)*np.cos(azimuth_angle_12))\n",
      "Y_12 = distance_12*np.cos(elevation_angle_12)*np.sin(azimuth_angle_12)\n",
      "Z_12 = distance_12*(np.sin(L)*np.sin(elevation_angle_12) + np.cos(L)*np.cos(elevation_angle_12)*np.cos(azimuth_angle_12))\n",
      "XYZ_12 = np.matrix([[X_12],\n",
      "                    [Y_12],\n",
      "                    [Z_12]])\n",
      "X_21 = distance_12*(np.cos(L)*np.sin(-elevation_angle_12) - np.sin(L)*np.cos(-elevation_angle_12)*np.cos(azimuth_angle_12 + np.pi))\n",
      "Y_21 = distance_12*np.cos(-elevation_angle_12)*np.sin(azimuth_angle_12 + np.pi)\n",
      "Z_21 = distance_12*(np.sin(L)*np.sin(-elevation_angle_12) + np.cos(L)*np.cos(-elevation_angle_12)*np.cos(azimuth_angle_12 + np.pi))\n",
      "XYZ_21 = np.matrix([[X_21],\n",
      "                    [Y_21],\n",
      "                    [Z_21]])"
     ],
     "language": "python",
     "metadata": {},
     "outputs": [],
     "prompt_number": 144
    },
    {
     "cell_type": "code",
     "collapsed": false,
     "input": [
      "print 'X_12: %f'%(X_12)\n",
      "print 'Y_12: %f'%(Y_12)\n",
      "print 'Z_12: %f'%(Z_12)\n",
      "\n",
      "print 'X_21: %f'%(X_21)\n",
      "print 'Y_21: %f'%(Y_21)\n",
      "print 'Z_21: %f'%(Z_21)"
     ],
     "language": "python",
     "metadata": {},
     "outputs": [
      {
       "output_type": "stream",
       "stream": "stdout",
       "text": [
        "X_12: 17.889978\n",
        "Y_12: 65.189000\n",
        "Z_12: 30.634911\n",
        "X_21: -17.889978\n",
        "Y_21: -65.189000\n",
        "Z_21: -30.634911\n"
       ]
      }
     ],
     "prompt_number": 145
    },
    {
     "cell_type": "markdown",
     "metadata": {},
     "source": [
      "<b>5.</b>  Calculate the observational wavelength $\\lambda$?"
     ]
    },
    {
     "cell_type": "code",
     "collapsed": false,
     "input": [
      "c = 3e8\n",
      "frequency = 1.4e9\n",
      "wavelength = c/frequency"
     ],
     "language": "python",
     "metadata": {},
     "outputs": [],
     "prompt_number": 146
    },
    {
     "cell_type": "code",
     "collapsed": false,
     "input": [
      "print 'Observational wavelength: %f metres'%(wavelength)"
     ],
     "language": "python",
     "metadata": {},
     "outputs": [
      {
       "output_type": "stream",
       "stream": "stdout",
       "text": [
        "Observational wavelength: 0.214286 metres\n"
       ]
      }
     ],
     "prompt_number": 147
    },
    {
     "cell_type": "markdown",
     "metadata": {},
     "source": [
      "<b>6.</b> Calculate $\\sqrt{X^2_{12} + Y^2_{12}}\u03bb^{-1}$, $|sin(\\delta_0)|\\sqrt{X^2_{12} + Y^2_{12}}\u03bb^{-1}$, and $cos(\\delta_0)Z_{12}\u03bb^{-1}$?"
     ]
    },
    {
     "cell_type": "code",
     "collapsed": false,
     "input": [
      "delta_0 = -74. - 39./60 - 37.481/3600\n",
      "a = np.sqrt(np.square(X_12) + np.square(Y_12))/wavelength\n",
      "b = np.abs(np.sin(delta_0))*a\n",
      "c = np.cos(delta_0)*Z_12/wavelength"
     ],
     "language": "python",
     "metadata": {},
     "outputs": [],
     "prompt_number": 148
    },
    {
     "cell_type": "code",
     "collapsed": false,
     "input": [
      "print a\n",
      "print b\n",
      "print c"
     ],
     "language": "python",
     "metadata": {},
     "outputs": [
      {
       "output_type": "stream",
       "stream": "stdout",
       "text": [
        "315.463112606\n",
        "212.202808443\n",
        "105.784256644\n"
       ]
      }
     ],
     "prompt_number": 149
    },
    {
     "cell_type": "markdown",
     "metadata": {},
     "source": [
      "<b>7.</b> Draw the uv-tracks of baseline 12 and 21 that are generated, during a 24-hour observation?"
     ]
    },
    {
     "cell_type": "code",
     "collapsed": false,
     "input": [
      "H = np.linspace(-12,12,100)\n",
      "H = H*15/180*np.pi\n",
      "\n",
      "transform_matrix = np.matrix([[np.sin(H), np.cos(H), 0],[-np.sin(delta_0)*np.cos(H), np.sin(delta_0)*np.sin(H), np.cos(delta_0)]])\n",
      "uv_12 = transform_matrix*XYZ_12/wavelength\n",
      "u_12 = np.array(uv_12[0])[0][0] # numpy artefact. Not sure why I have to do this exactly.\n",
      "v_12 = np.array(uv_12[1])[0][0]\n",
      "matplotlib.pyplot.plot(u_12,v_12, color='blue')\n",
      "\n",
      "uv_21 = transform_matrix*XYZ_21/wavelength\n",
      "u_21 = np.array(uv_21[0])[0][0]\n",
      "v_21 = np.array(uv_21[1])[0][0]\n",
      "matplotlib.pyplot.plot(u_21,v_21, color='red')\n",
      "matplotlib.pyplot.grid('on')"
     ],
     "language": "python",
     "metadata": {},
     "outputs": [
      {
       "metadata": {},
       "output_type": "display_data",
       "png": "[encoded data removed]",
       "text": [
        "<matplotlib.figure.Figure at 0x7f74b00a46d0>"
       ]
      }
     ],
     "prompt_number": 150
    },
    {
     "cell_type": "markdown",
     "metadata": {},
     "source": [
      "<b>8.</b> Generate the coordinate pair $(u,v)$ assicoated with baseline 12 and $H_0 = -4h$?"
     ]
    },
    {
     "cell_type": "code",
     "collapsed": false,
     "input": [
      "H = -4.*15/180*np.pi\n",
      "A = np.matrix([[np.sin(H), np.cos(H), 0],\n",
      "               [-np.sin(delta_0)*np.cos(H), np.sin(delta_0)*np.cos(H), np.cos(delta_0)]])\n",
      "uv = (A*X)/wavelength"
     ],
     "language": "python",
     "metadata": {},
     "outputs": [],
     "prompt_number": 151
    },
    {
     "cell_type": "code",
     "collapsed": false,
     "input": [
      "print uv"
     ],
     "language": "python",
     "metadata": {},
     "outputs": [
      {
       "output_type": "stream",
       "stream": "stdout",
       "text": [
        "[[ 154.18551003]\n",
        " [ 103.79476864]]\n"
       ]
      }
     ],
     "prompt_number": 152
    },
    {
     "cell_type": "markdown",
     "metadata": {},
     "source": [
      "<b>9.</b> Why are $u$ and $v$ unitless? Why do we measure $u$ and $v$ in $rad^{-1}$?"
     ]
    },
    {
     "cell_type": "raw",
     "metadata": {},
     "source": [
      "Radians are also technically unitless, so measuring them in rad^-1 is internally consistent.\n",
      "u and v are unitless because they're measuring baseline distance divided by wavelength, which has units of m/m."
     ]
    },
    {
     "cell_type": "markdown",
     "metadata": {},
     "source": [
      "<b>10.</b> Generate the coordinate pair (u,v) assicoated with baseline 12 and $H_0$ = 4h?"
     ]
    },
    {
     "cell_type": "code",
     "collapsed": false,
     "input": [
      "# Same procedure as before, only remove the minus\n",
      "H = 4.*15/180*np.pi\n",
      "A = np.matrix([[np.sin(H), np.cos(H), 0],\n",
      "               [-np.sin(delta_0)*np.cos(H), np.sin(delta_0)*np.cos(H), np.cos(delta_0)]])\n",
      "uv = (A*X)/wavelength"
     ],
     "language": "python",
     "metadata": {},
     "outputs": [],
     "prompt_number": 153
    },
    {
     "cell_type": "code",
     "collapsed": false,
     "input": [
      "print uv"
     ],
     "language": "python",
     "metadata": {},
     "outputs": [
      {
       "output_type": "stream",
       "stream": "stdout",
       "text": [
        "[[ 150.0298233 ]\n",
        " [ 103.79476864]]\n"
       ]
      }
     ],
     "prompt_number": 154
    },
    {
     "cell_type": "markdown",
     "metadata": {},
     "source": [
      "<b>11.</b> Draw the <em>uv</em>-tracks associated with the baseline 12 and 21 for $-4h < H < 4h$?"
     ]
    },
    {
     "cell_type": "code",
     "collapsed": false,
     "input": [
      "H = np.linspace(-4,4,100)\n",
      "H = H*15/180*np.pi\n",
      "\n",
      "transform_matrix = np.matrix([[np.sin(H), np.cos(H), 0],[-np.sin(delta_0)*np.cos(H), np.sin(delta_0)*np.sin(H), np.cos(delta_0)]])\n",
      "uv_12 = transform_matrix*XYZ_12/wavelength\n",
      "u_12 = np.array(uv_12[0])[0][0] # numpy artefact. Not sure why I have to do this exactly.\n",
      "v_12 = np.array(uv_12[1])[0][0]\n",
      "matplotlib.pyplot.plot(u_12,v_12, color='blue')\n",
      "\n",
      "uv_21 = transform_matrix*XYZ_21/wavelength\n",
      "u_21 = np.array(uv_21[0])[0][0]\n",
      "v_21 = np.array(uv_21[1])[0][0]\n",
      "matplotlib.pyplot.plot(u_21,v_21, color='red')\n",
      "matplotlib.pyplot.grid('on')"
     ],
     "language": "python",
     "metadata": {},
     "outputs": [
      {
       "metadata": {},
       "output_type": "display_data",
       "png": "[encoded data removed]",
       "text": [
        "<matplotlib.figure.Figure at 0x7f74b0056590>"
       ]
      }
     ],
     "prompt_number": 155
    },
    {
     "cell_type": "markdown",
     "metadata": {},
     "source": [
      "<b>12.</b> Assume we observe the exact same sky calculated in the previous section, but now let delta_0 = 0 degrees (Papino lies on the celestial equator). Calculate the uv-coverage of baseline 12 with -4h < H < 4h? Also plot the visibilites that we would observe as a function of timeslots[n] (assume 600 timeslots). "
     ]
    },
    {
     "cell_type": "code",
     "collapsed": false,
     "input": [
      "delta_0 = 0\n",
      "H = np.linspace(-4,4,100)\n",
      "H = H*15/180*np.pi\n",
      "\n",
      "transform_matrix = np.matrix([[np.sin(H), np.cos(H), 0],[-np.sin(delta_0)*np.cos(H), np.sin(delta_0)*np.sin(H), np.cos(delta_0)]])\n",
      "uv_12 = transform_matrix*XYZ_12/wavelength\n",
      "u_12 = np.array(uv_12[0])[0][0] # numpy artefact. Not sure why I have to do this exactly.\n",
      "v_12 = np.array(uv_12[1])[0][0]\n",
      "matplotlib.pyplot.plot(u_12,v_12, color='blue')\n",
      "\n",
      "uv_21 = transform_matrix*XYZ_21/wavelength\n",
      "u_21 = np.array(uv_21[0])[0][0]\n",
      "v_21 = np.array(uv_21[1])[0][0]\n",
      "matplotlib.pyplot.plot(u_21,v_21, color='red')\n",
      "matplotlib.pyplot.grid('on')"
     ],
     "language": "python",
     "metadata": {},
     "outputs": [
      {
       "metadata": {},
       "output_type": "display_data",
       "png": "[encoded data removed]",
       "text": [
        "<matplotlib.figure.Figure at 0x7f74b00778d0>"
       ]
      }
     ],
     "prompt_number": 156
    },
    {
     "cell_type": "markdown",
     "metadata": {},
     "source": [
      "$V(u,v)=\\mathcal{F}\\{I(l,m)\\} = \\mathcal{F}\\{\\sum_k A_k \\delta(l-l_k,m-m_k)\\} = \\sum_k A_k e^{-2\\pi i (ul_i+vm_i)}$\n",
      "\n",
      "In our case:<br/>\n",
      "$V(u,v) = 1 e^{-2\\pi i (u(0)+v(0))} + 0.2 e^{-2\\pi i (u(0)+v(0.000001))}$<br/>\n",
      "$= 1 + 0.2 e^{-2\\pi i (0.000001)v}$"
     ]
    },
    {
     "cell_type": "code",
     "collapsed": false,
     "input": [
      "complex_visibility_12 = np.zeros(100).astype(complex)\n",
      "complex_visibility_21 = np.zeros(100).astype(complex)\n",
      "\n",
      "for i in range(100):\n",
      "    complex_visibility_12[i] = 1 + 0.2*np.exp(-2*np.pi*1j*paperino_m*v_12[i])\n",
      "    complex_visibility_21[i] = 1 + 0.2*np.exp(-2*np.pi*1j*paperino_m*v_21[i])"
     ],
     "language": "python",
     "metadata": {},
     "outputs": [],
     "prompt_number": 157
    },
    {
     "cell_type": "code",
     "collapsed": false,
     "input": [
      "matplotlib.pyplot.plot(complex_visibility_12.real, color='blue')\n",
      "matplotlib.pyplot.plot(complex_visibility_12.imag, color='red')"
     ],
     "language": "python",
     "metadata": {},
     "outputs": [
      {
       "metadata": {},
       "output_type": "pyout",
       "prompt_number": 158,
       "text": [
        "[<matplotlib.lines.Line2D at 0x7f74b031fbd0>]"
       ]
      },
      {
       "metadata": {},
       "output_type": "display_data",
       "png": "[encoded data removed]",
       "text": [
        "<matplotlib.figure.Figure at 0x7f74b031fc50>"
       ]
      }
     ],
     "prompt_number": 158
    },
    {
     "cell_type": "code",
     "collapsed": false,
     "input": [
      "matplotlib.pyplot.plot(complex_visibility_21.real, color='blue')\n",
      "matplotlib.pyplot.plot(complex_visibility_21.imag, color='red')"
     ],
     "language": "python",
     "metadata": {},
     "outputs": [
      {
       "metadata": {},
       "output_type": "pyout",
       "prompt_number": 159,
       "text": [
        "[<matplotlib.lines.Line2D at 0x7f74b0aba1d0>]"
       ]
      },
      {
       "metadata": {},
       "output_type": "display_data",
       "png": "[encoded data removed]",
       "text": [
        "<matplotlib.figure.Figure at 0x7f74b0118c50>"
       ]
      }
     ],
     "prompt_number": 159
    },
    {
     "cell_type": "raw",
     "metadata": {},
     "source": [
      "Above is correct. Two sources vertically arranged, their fringe pattern will make lines running horizontally. Since we're looking at the celestial equator, the uv tracks run horizontally, and therefore \"sample\" constant values."
     ]
    },
    {
     "cell_type": "code",
     "collapsed": false,
     "input": [],
     "language": "python",
     "metadata": {},
     "outputs": [],
     "prompt_number": 131
    },
    {
     "cell_type": "code",
     "collapsed": false,
     "input": [],
     "language": "python",
     "metadata": {},
     "outputs": []
    }
   ],
   "metadata": {}
  }
 ]
}