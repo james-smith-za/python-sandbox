{
 "cells": [
  {
   "cell_type": "code",
   "execution_count": 1,
   "metadata": {
    "collapsed": false
   },
   "outputs": [
    {
     "name": "stdout",
     "output_type": "stream",
     "text": [
      "Populating the interactive namespace from numpy and matplotlib\n"
     ]
    }
   ],
   "source": [
    "%pylab inline\n",
    "import mpld3\n",
    "mpld3.enable_notebook()\n",
    "import numpy as np"
   ]
  },
  {
   "cell_type": "code",
   "execution_count": 2,
   "metadata": {
    "collapsed": false
   },
   "outputs": [],
   "source": [
    "class vector(object):\n",
    "    def __init__(self, x, y):\n",
    "        self.x = float(x)\n",
    "        self.y = float(y)\n",
    "    def __repr__(self):\n",
    "        return \"X: {:.3f}\\nY: {:.3f}\".format(self.x, self.y)\n",
    "    def __add__(self, other):\n",
    "        return vector(self.x + other.x, self.y + other.y)\n",
    "    def __subtract__(self, other):\n",
    "        return vector(self.x - other.x, self.y - other.y)\n",
    "    \n",
    "    @property\n",
    "    def magnitude(self):\n",
    "        return np.sqrt(np.square(self.x) + np.square(self.y))\n",
    "    \n",
    "    @property\n",
    "    def direction(self):\n",
    "        if self.x >= 0 and self.y >= 0:\n",
    "            return np.degrees(np.arctan(np.abs(self.y) / np.abs(self.x)))\n",
    "        elif self.x < 0 and self.y >= 0:\n",
    "            return 180.0 - np.degrees(np.arctan(np.abs(self.y) / np.abs(self.x)))\n",
    "        elif self.x < 0 and self.y < 0:\n",
    "            return 180.0 + np.degrees(np.arctan(np.abs(self.y) / np.abs(self.x)))\n",
    "        else:\n",
    "            return 360.0 - np.degrees(np.arctan(np.abs(self.y) / np.abs(self.x)))\n",
    "    "
   ]
  },
  {
   "cell_type": "code",
   "execution_count": 3,
   "metadata": {
    "collapsed": true
   },
   "outputs": [],
   "source": [
    "myPos1 = vector(1, 2)\n",
    "myPos2 = vector(-2, 3)"
   ]
  },
  {
   "cell_type": "code",
   "execution_count": 4,
   "metadata": {
    "collapsed": false
   },
   "outputs": [],
   "source": [
    "myPos3 = myPos1 + myPos2"
   ]
  },
  {
   "cell_type": "code",
   "execution_count": 5,
   "metadata": {
    "collapsed": false
   },
   "outputs": [
    {
     "name": "stdout",
     "output_type": "stream",
     "text": [
      "X: -1.000\n",
      "Y: 5.000\n",
      "101.309932474\n"
     ]
    }
   ],
   "source": [
    "print(myPos3)\n",
    "print(myPos3.direction)"
   ]
  },
  {
   "cell_type": "code",
   "execution_count": 6,
   "metadata": {
    "collapsed": false
   },
   "outputs": [
    {
     "data": {
      "text/plain": [
       "1"
      ]
     },
     "execution_count": 6,
     "metadata": {},
     "output_type": "execute_result"
    }
   ],
   "source": [
    "size(myPos1)"
   ]
  },
  {
   "cell_type": "code",
   "execution_count": null,
   "metadata": {
    "collapsed": false
   },
   "outputs": [],
   "source": []
  },
  {
   "cell_type": "code",
   "execution_count": null,
   "metadata": {
    "collapsed": true
   },
   "outputs": [],
   "source": []
  }
 ],
 "metadata": {
  "anaconda-cloud": {},
  "kernelspec": {
   "display_name": "Python [conda env:python3]",
   "language": "python",
   "name": "conda-env-python3-py"
  },
  "language_info": {
   "codemirror_mode": {
    "name": "ipython",
    "version": 3
   },
   "file_extension": ".py",
   "mimetype": "text/x-python",
   "name": "python",
   "nbconvert_exporter": "python",
   "pygments_lexer": "ipython3",
   "version": "3.5.2"
  }
 },
 "nbformat": 4,
 "nbformat_minor": 1
}
