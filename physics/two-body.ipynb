{
 "cells": [
  {
   "cell_type": "code",
   "execution_count": 1,
   "metadata": {
    "collapsed": false
   },
   "outputs": [
    {
     "name": "stdout",
     "output_type": "stream",
     "text": [
      "Populating the interactive namespace from numpy and matplotlib\n"
     ]
    }
   ],
   "source": [
    "%pylab inline\n",
    "import mpld3\n",
    "mpld3.enable_notebook()\n",
    "import numpy as np"
   ]
  },
  {
   "cell_type": "code",
   "execution_count": 2,
   "metadata": {
    "collapsed": false
   },
   "outputs": [],
   "source": [
    "from vectors import vector\n",
    "from particles import particle, attraction"
   ]
  },
  {
   "cell_type": "code",
   "execution_count": 3,
   "metadata": {
    "collapsed": false
   },
   "outputs": [],
   "source": [
    "Sun = particle(2e30, (0, 0))\n",
    "Earth = particle(6e24, (1.5e11, 0))"
   ]
  },
  {
   "cell_type": "code",
   "execution_count": 4,
   "metadata": {
    "collapsed": false
   },
   "outputs": [
    {
     "name": "stdout",
     "output_type": "stream",
     "text": [
      "Mass:\n",
      "\t2000000000000000039769249677312.000 kg\n",
      "Position:\n",
      "\tX: 0.000 m\n",
      "\tY: 0.000 m\n",
      "Velocity:\n",
      "\tX: 0.000 m/s\n",
      "\tY: 0.000 m/s\n",
      "acceleration:\n",
      "\tX: 0.000 m/s^2\n",
      "\tY: 0.000 m/s^2\n",
      "\n",
      "Mass:\n",
      "\t5999999999999999899336704.000 kg\n",
      "Position:\n",
      "\tX: 150000000000.000 m\n",
      "\tY: 0.000 m\n",
      "Velocity:\n",
      "\tX: 0.000 m/s\n",
      "\tY: 0.000 m/s\n",
      "acceleration:\n",
      "\tX: 0.000 m/s^2\n",
      "\tY: 0.000 m/s^2\n",
      "\n"
     ]
    }
   ],
   "source": [
    "print(Sun)\n",
    "print(Earth)"
   ]
  },
  {
   "cell_type": "code",
   "execution_count": 5,
   "metadata": {
    "collapsed": false
   },
   "outputs": [
    {
     "name": "stdout",
     "output_type": "stream",
     "text": [
      "X: -1.500E+11\n",
      "Y: 0.000E+00\n",
      "X: -3.559E+22\n",
      "Y: 4.359E+06\n"
     ]
    }
   ],
   "source": [
    "print(attraction(Sun, Earth))"
   ]
  },
  {
   "cell_type": "code",
   "execution_count": null,
   "metadata": {
    "collapsed": true
   },
   "outputs": [],
   "source": []
  }
 ],
 "metadata": {
  "anaconda-cloud": {},
  "kernelspec": {
   "display_name": "Python [conda env:python3]",
   "language": "python",
   "name": "conda-env-python3-py"
  },
  "language_info": {
   "codemirror_mode": {
    "name": "ipython",
    "version": 3
   },
   "file_extension": ".py",
   "mimetype": "text/x-python",
   "name": "python",
   "nbconvert_exporter": "python",
   "pygments_lexer": "ipython3",
   "version": "3.5.2"
  }
 },
 "nbformat": 4,
 "nbformat_minor": 1
}
