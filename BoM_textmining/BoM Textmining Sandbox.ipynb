{
 "cells": [
  {
   "cell_type": "code",
   "execution_count": 1,
   "metadata": {
    "collapsed": true
   },
   "outputs": [],
   "source": [
    "import zipfile"
   ]
  },
  {
   "cell_type": "code",
   "execution_count": 43,
   "metadata": {
    "collapsed": true
   },
   "outputs": [],
   "source": [
    "import xml.etree.ElementTree as ElementTree # A simple API for parsing and creating XML data. I'm just parsing here."
   ]
  },
  {
   "cell_type": "markdown",
   "metadata": {},
   "source": [
    "This from the python documentation page:\n",
    "https://docs.python.org/3.4/library/xml.etree.elementtree.html\n",
    "Warning The xml.etree.ElementTree module is not secure against maliciously constructed data. If you need to parse untrusted or unauthenticated data see XML vulnerabilities.\n",
    "\n",
    "The church's epub download is probably safe. But just to be careful."
   ]
  },
  {
   "cell_type": "code",
   "execution_count": 3,
   "metadata": {
    "collapsed": false
   },
   "outputs": [],
   "source": [
    "BoMEpub = zipfile.ZipFile(\"book-of-mormon-eng.epub\")"
   ]
  },
  {
   "cell_type": "markdown",
   "metadata": {},
   "source": [
    "The object has a filelist member which gives a list of \"file\" objects. Still need to work out how these work exactly."
   ]
  },
  {
   "cell_type": "code",
   "execution_count": 4,
   "metadata": {
    "collapsed": false
   },
   "outputs": [
    {
     "name": "stdout",
     "output_type": "stream",
     "text": [
      "mimetype\n",
      "OEBPS/images/03990_000_bofm_000-cover.jpg\n",
      "OEBPS/lds_ePub_scriptures.css\n",
      "OEBPS/images/03990_000_bofm-image-1.jpg\n",
      "OEBPS/images/03990_000_bofm-image-2.jpg\n",
      "OEBPS/images/03990_000_bofm-image-3.jpg\n",
      "OEBPS/images/03990_000_bofm-image-4.jpg\n",
      "OEBPS/images/03990_000_bofm-image-5.jpg\n",
      "OEBPS/images/03990_000_bofm-image-6.jpg\n",
      "OEBPS/images/03990_000_bofm-image-7.jpg\n",
      "OEBPS/images/03990_000_bofm-image-8.jpg\n",
      "META-INF/container.xml\n",
      "OEBPS/1-ne.xhtml\n",
      "OEBPS/1-ne_1.xhtml\n",
      "OEBPS/1-ne_10.xhtml\n",
      "OEBPS/1-ne_11.xhtml\n",
      "OEBPS/1-ne_12.xhtml\n",
      "OEBPS/1-ne_13.xhtml\n",
      "OEBPS/1-ne_14.xhtml\n",
      "OEBPS/1-ne_15.xhtml\n",
      "OEBPS/1-ne_16.xhtml\n",
      "OEBPS/1-ne_17.xhtml\n",
      "OEBPS/1-ne_18.xhtml\n",
      "OEBPS/1-ne_19.xhtml\n",
      "OEBPS/1-ne_2.xhtml\n",
      "OEBPS/1-ne_20.xhtml\n",
      "OEBPS/1-ne_21.xhtml\n",
      "OEBPS/1-ne_22.xhtml\n",
      "OEBPS/1-ne_3.xhtml\n",
      "OEBPS/1-ne_4.xhtml\n",
      "OEBPS/1-ne_5.xhtml\n",
      "OEBPS/1-ne_6.xhtml\n",
      "OEBPS/1-ne_7.xhtml\n",
      "OEBPS/1-ne_8.xhtml\n",
      "OEBPS/1-ne_9.xhtml\n",
      "OEBPS/2-ne.xhtml\n",
      "OEBPS/2-ne_1.xhtml\n",
      "OEBPS/2-ne_10.xhtml\n",
      "OEBPS/2-ne_11.xhtml\n",
      "OEBPS/2-ne_12.xhtml\n",
      "OEBPS/2-ne_13.xhtml\n",
      "OEBPS/2-ne_14.xhtml\n",
      "OEBPS/2-ne_15.xhtml\n",
      "OEBPS/2-ne_16.xhtml\n",
      "OEBPS/2-ne_17.xhtml\n",
      "OEBPS/2-ne_18.xhtml\n",
      "OEBPS/2-ne_19.xhtml\n",
      "OEBPS/2-ne_2.xhtml\n",
      "OEBPS/2-ne_20.xhtml\n",
      "OEBPS/2-ne_21.xhtml\n",
      "OEBPS/2-ne_22.xhtml\n",
      "OEBPS/2-ne_23.xhtml\n",
      "OEBPS/2-ne_24.xhtml\n",
      "OEBPS/2-ne_25.xhtml\n",
      "OEBPS/2-ne_26.xhtml\n",
      "OEBPS/2-ne_27.xhtml\n",
      "OEBPS/2-ne_28.xhtml\n",
      "OEBPS/2-ne_29.xhtml\n",
      "OEBPS/2-ne_3.xhtml\n",
      "OEBPS/2-ne_30.xhtml\n",
      "OEBPS/2-ne_31.xhtml\n",
      "OEBPS/2-ne_32.xhtml\n",
      "OEBPS/2-ne_33.xhtml\n",
      "OEBPS/2-ne_4.xhtml\n",
      "OEBPS/2-ne_5.xhtml\n",
      "OEBPS/2-ne_6.xhtml\n",
      "OEBPS/2-ne_7.xhtml\n",
      "OEBPS/2-ne_8.xhtml\n",
      "OEBPS/2-ne_9.xhtml\n",
      "OEBPS/3-ne.xhtml\n",
      "OEBPS/3-ne_1.xhtml\n",
      "OEBPS/3-ne_10.xhtml\n",
      "OEBPS/3-ne_11.xhtml\n",
      "OEBPS/3-ne_12.xhtml\n",
      "OEBPS/3-ne_13.xhtml\n",
      "OEBPS/3-ne_14.xhtml\n",
      "OEBPS/3-ne_15.xhtml\n",
      "OEBPS/3-ne_16.xhtml\n",
      "OEBPS/3-ne_17.xhtml\n",
      "OEBPS/3-ne_18.xhtml\n",
      "OEBPS/3-ne_19.xhtml\n",
      "OEBPS/3-ne_2.xhtml\n",
      "OEBPS/3-ne_20.xhtml\n",
      "OEBPS/3-ne_21.xhtml\n",
      "OEBPS/3-ne_22.xhtml\n",
      "OEBPS/3-ne_23.xhtml\n",
      "OEBPS/3-ne_24.xhtml\n",
      "OEBPS/3-ne_25.xhtml\n",
      "OEBPS/3-ne_26.xhtml\n",
      "OEBPS/3-ne_27.xhtml\n",
      "OEBPS/3-ne_28.xhtml\n",
      "OEBPS/3-ne_29.xhtml\n",
      "OEBPS/3-ne_3.xhtml\n",
      "OEBPS/3-ne_30.xhtml\n",
      "OEBPS/3-ne_4.xhtml\n",
      "OEBPS/3-ne_5.xhtml\n",
      "OEBPS/3-ne_6.xhtml\n",
      "OEBPS/3-ne_7.xhtml\n",
      "OEBPS/3-ne_8.xhtml\n",
      "OEBPS/3-ne_9.xhtml\n",
      "OEBPS/4-ne.xhtml\n",
      "OEBPS/alma.xhtml\n",
      "OEBPS/alma_1.xhtml\n",
      "OEBPS/alma_10.xhtml\n",
      "OEBPS/alma_11.xhtml\n",
      "OEBPS/alma_12.xhtml\n",
      "OEBPS/alma_13.xhtml\n",
      "OEBPS/alma_14.xhtml\n",
      "OEBPS/alma_15.xhtml\n",
      "OEBPS/alma_16.xhtml\n",
      "OEBPS/alma_17.xhtml\n",
      "OEBPS/alma_18.xhtml\n",
      "OEBPS/alma_19.xhtml\n",
      "OEBPS/alma_2.xhtml\n",
      "OEBPS/alma_20.xhtml\n",
      "OEBPS/alma_21.xhtml\n",
      "OEBPS/alma_22.xhtml\n",
      "OEBPS/alma_23.xhtml\n",
      "OEBPS/alma_24.xhtml\n",
      "OEBPS/alma_25.xhtml\n",
      "OEBPS/alma_26.xhtml\n",
      "OEBPS/alma_27.xhtml\n",
      "OEBPS/alma_28.xhtml\n",
      "OEBPS/alma_29.xhtml\n",
      "OEBPS/alma_3.xhtml\n",
      "OEBPS/alma_30.xhtml\n",
      "OEBPS/alma_31.xhtml\n",
      "OEBPS/alma_32.xhtml\n",
      "OEBPS/alma_33.xhtml\n",
      "OEBPS/alma_34.xhtml\n",
      "OEBPS/alma_35.xhtml\n",
      "OEBPS/alma_36.xhtml\n",
      "OEBPS/alma_37.xhtml\n",
      "OEBPS/alma_38.xhtml\n",
      "OEBPS/alma_39.xhtml\n",
      "OEBPS/alma_4.xhtml\n",
      "OEBPS/alma_40.xhtml\n",
      "OEBPS/alma_41.xhtml\n",
      "OEBPS/alma_42.xhtml\n",
      "OEBPS/alma_43.xhtml\n",
      "OEBPS/alma_44.xhtml\n",
      "OEBPS/alma_45.xhtml\n",
      "OEBPS/alma_46.xhtml\n",
      "OEBPS/alma_47.xhtml\n",
      "OEBPS/alma_48.xhtml\n",
      "OEBPS/alma_49.xhtml\n",
      "OEBPS/alma_5.xhtml\n",
      "OEBPS/alma_50.xhtml\n",
      "OEBPS/alma_51.xhtml\n",
      "OEBPS/alma_52.xhtml\n",
      "OEBPS/alma_53.xhtml\n",
      "OEBPS/alma_54.xhtml\n",
      "OEBPS/alma_55.xhtml\n",
      "OEBPS/alma_56.xhtml\n",
      "OEBPS/alma_57.xhtml\n",
      "OEBPS/alma_58.xhtml\n",
      "OEBPS/alma_59.xhtml\n",
      "OEBPS/alma_6.xhtml\n",
      "OEBPS/alma_60.xhtml\n",
      "OEBPS/alma_61.xhtml\n",
      "OEBPS/alma_62.xhtml\n",
      "OEBPS/alma_63.xhtml\n",
      "OEBPS/alma_7.xhtml\n",
      "OEBPS/alma_8.xhtml\n",
      "OEBPS/alma_9.xhtml\n",
      "OEBPS/bofm-illustrations.xhtml\n",
      "OEBPS/bofm-toc.xhtml\n",
      "OEBPS/bofm.xhtml\n",
      "OEBPS/bofm_bofm-title.xhtml\n",
      "OEBPS/bofm_eight.xhtml\n",
      "OEBPS/bofm_explanation.xhtml\n",
      "OEBPS/bofm_illustration-1.xhtml\n",
      "OEBPS/bofm_illustration-2.xhtml\n",
      "OEBPS/bofm_illustration-3.xhtml\n",
      "OEBPS/bofm_illustration-4.xhtml\n",
      "OEBPS/bofm_illustration-5.xhtml\n",
      "OEBPS/bofm_illustration-6.xhtml\n",
      "OEBPS/bofm_illustration-7.xhtml\n",
      "OEBPS/bofm_illustration-8.xhtml\n",
      "OEBPS/bofm_introduction.xhtml\n",
      "OEBPS/bofm_js.xhtml\n",
      "OEBPS/bofm_pronunciation.xhtml\n",
      "OEBPS/bofm_reference.xhtml\n",
      "OEBPS/bofm_three.xhtml\n",
      "OEBPS/content.opf\n",
      "OEBPS/COPYRIGHT.txt\n",
      "OEBPS/cover.xhtml\n",
      "OEBPS/enos.xhtml\n",
      "OEBPS/ether.xhtml\n",
      "OEBPS/ether_1.xhtml\n",
      "OEBPS/ether_10.xhtml\n",
      "OEBPS/ether_11.xhtml\n",
      "OEBPS/ether_12.xhtml\n",
      "OEBPS/ether_13.xhtml\n",
      "OEBPS/ether_14.xhtml\n",
      "OEBPS/ether_15.xhtml\n",
      "OEBPS/ether_2.xhtml\n",
      "OEBPS/ether_3.xhtml\n",
      "OEBPS/ether_4.xhtml\n",
      "OEBPS/ether_5.xhtml\n",
      "OEBPS/ether_6.xhtml\n",
      "OEBPS/ether_7.xhtml\n",
      "OEBPS/ether_8.xhtml\n",
      "OEBPS/ether_9.xhtml\n",
      "OEBPS/hel.xhtml\n",
      "OEBPS/hel_1.xhtml\n",
      "OEBPS/hel_10.xhtml\n",
      "OEBPS/hel_11.xhtml\n",
      "OEBPS/hel_12.xhtml\n",
      "OEBPS/hel_13.xhtml\n",
      "OEBPS/hel_14.xhtml\n",
      "OEBPS/hel_15.xhtml\n",
      "OEBPS/hel_16.xhtml\n",
      "OEBPS/hel_2.xhtml\n",
      "OEBPS/hel_3.xhtml\n",
      "OEBPS/hel_4.xhtml\n",
      "OEBPS/hel_5.xhtml\n",
      "OEBPS/hel_6.xhtml\n",
      "OEBPS/hel_7.xhtml\n",
      "OEBPS/hel_8.xhtml\n",
      "OEBPS/hel_9.xhtml\n",
      "OEBPS/jacob.xhtml\n",
      "OEBPS/jacob_1.xhtml\n",
      "OEBPS/jacob_2.xhtml\n",
      "OEBPS/jacob_3.xhtml\n",
      "OEBPS/jacob_4.xhtml\n",
      "OEBPS/jacob_5.xhtml\n",
      "OEBPS/jacob_6.xhtml\n",
      "OEBPS/jacob_7.xhtml\n",
      "OEBPS/jarom.xhtml\n",
      "OEBPS/morm.xhtml\n",
      "OEBPS/morm_1.xhtml\n",
      "OEBPS/morm_2.xhtml\n",
      "OEBPS/morm_3.xhtml\n",
      "OEBPS/morm_4.xhtml\n",
      "OEBPS/morm_5.xhtml\n",
      "OEBPS/morm_6.xhtml\n",
      "OEBPS/morm_7.xhtml\n",
      "OEBPS/morm_8.xhtml\n",
      "OEBPS/morm_9.xhtml\n",
      "OEBPS/moro.xhtml\n",
      "OEBPS/moro_1.xhtml\n",
      "OEBPS/moro_10.xhtml\n",
      "OEBPS/moro_2.xhtml\n",
      "OEBPS/moro_3.xhtml\n",
      "OEBPS/moro_4.xhtml\n",
      "OEBPS/moro_5.xhtml\n",
      "OEBPS/moro_6.xhtml\n",
      "OEBPS/moro_7.xhtml\n",
      "OEBPS/moro_8.xhtml\n",
      "OEBPS/moro_9.xhtml\n",
      "OEBPS/mosiah.xhtml\n",
      "OEBPS/mosiah_1.xhtml\n",
      "OEBPS/mosiah_10.xhtml\n",
      "OEBPS/mosiah_11.xhtml\n",
      "OEBPS/mosiah_12.xhtml\n",
      "OEBPS/mosiah_13.xhtml\n",
      "OEBPS/mosiah_14.xhtml\n",
      "OEBPS/mosiah_15.xhtml\n",
      "OEBPS/mosiah_16.xhtml\n",
      "OEBPS/mosiah_17.xhtml\n",
      "OEBPS/mosiah_18.xhtml\n",
      "OEBPS/mosiah_19.xhtml\n",
      "OEBPS/mosiah_2.xhtml\n",
      "OEBPS/mosiah_20.xhtml\n",
      "OEBPS/mosiah_21.xhtml\n",
      "OEBPS/mosiah_22.xhtml\n",
      "OEBPS/mosiah_23.xhtml\n",
      "OEBPS/mosiah_24.xhtml\n",
      "OEBPS/mosiah_25.xhtml\n",
      "OEBPS/mosiah_26.xhtml\n",
      "OEBPS/mosiah_27.xhtml\n",
      "OEBPS/mosiah_28.xhtml\n",
      "OEBPS/mosiah_29.xhtml\n",
      "OEBPS/mosiah_3.xhtml\n",
      "OEBPS/mosiah_4.xhtml\n",
      "OEBPS/mosiah_5.xhtml\n",
      "OEBPS/mosiah_6.xhtml\n",
      "OEBPS/mosiah_7.xhtml\n",
      "OEBPS/mosiah_8.xhtml\n",
      "OEBPS/mosiah_9.xhtml\n",
      "OEBPS/omni.xhtml\n",
      "OEBPS/toc.ncx\n",
      "OEBPS/w-of-m.xhtml\n"
     ]
    }
   ],
   "source": [
    "for zipped_file in BoMEpub.filelist:\n",
    "    print(zipped_file.filename)"
   ]
  },
  {
   "cell_type": "markdown",
   "metadata": {},
   "source": [
    "The ZipFile object has a function called 'read' which returns the file whose name (including path) is given.\n",
    "\n",
    "The TOC is standard for an epub - the ZipFile object has the list object which we looked at previously, but it gives the files in alphabetical order, rather than in the right (book) order."
   ]
  },
  {
   "cell_type": "code",
   "execution_count": 5,
   "metadata": {
    "collapsed": false
   },
   "outputs": [],
   "source": [
    "tocFile = BoMEpub.read(\"OEBPS/toc.ncx\")"
   ]
  },
  {
   "cell_type": "markdown",
   "metadata": {},
   "source": [
    "This tocFile registers as a 'bytes' type, which seems odd, because it's just text. It could be that ZipFile will return any kind of file as 'bytes' that it gets from the zip."
   ]
  },
  {
   "cell_type": "code",
   "execution_count": 6,
   "metadata": {
    "collapsed": false
   },
   "outputs": [
    {
     "data": {
      "text/plain": [
       "bytes"
      ]
     },
     "execution_count": 6,
     "metadata": {},
     "output_type": "execute_result"
    }
   ],
   "source": [
    "type(tocFile)"
   ]
  },
  {
   "cell_type": "code",
   "execution_count": 7,
   "metadata": {
    "collapsed": false
   },
   "outputs": [
    {
     "name": "stdout",
     "output_type": "stream",
     "text": [
      "b'<?xml version=\"1.0\" encoding=\"UTF-8\"?>\\n<!DOCTYPE ncx\\n  PUBLIC \"-//NISO//DTD ncx 2005-1//EN\" \"http://www.daisy.org/z3986/2005/ncx-2005-1.dtd\">\\n<ncx xmlns=\"http://www.daisy.org/z3986/2005/ncx/\" version=\"2005-1\"><head><meta name=\"dtb:uid\" content=\"978-1-59297-692-8\"/><meta name=\"dtb:depth\" content=\"2\"/><meta name=\"dtb:totalPageCount\" content=\"0\"/><meta name=\"dtb:maxPageNumber\" content=\"0\"/></head><docTitle><text>Book of Mormon</text></docTitle><navMap><navPoint id=\"navPoint-1\" playOrder=\"1\"><navLabel><text>Title Page</text></navLabel><content src=\"bofm_bofm-title.xhtml\"/></navPoint><navPoint id=\"navPoint-2\" playOrder=\"2\"><navLabel><text>Introduction</text></navLabel><content src=\"bofm_introduction.xhtml\"/></navPoint><navPoint id=\"navPoint-3\" playOrder=\"3\"><navLabel><text>Testimony of Three Witnesses</text></navLabel><content src=\"bofm_three.xhtml\"/></navPoint><navPoint id=\"navPoint-4\" playOrder=\"4\"><navLabel><text>Testimony of Eight Witnesses</text></navLabel><content src=\"bofm_eight.xhtml\"/></navPoint><navPoint id=\"navPoint-5\" playOrder=\"5\"><navLabel><text>Testimony of the Prophet Joseph Smith</text></navLabel><content src=\"bofm_js.xhtml\"/></navPoint><navPoint id=\"navPoint-6\" playOrder=\"6\"><navLabel><text>Brief Explanation</text></navLabel><content src=\"bofm_explanation.xhtml\"/></navPoint><navPoint id=\"navPoint-7\" playOrder=\"7\"><navLabel><text>Illustrations</text></navLabel><content src=\"bofm-illustrations.xhtml\"/></navPoint><navPoint id=\"navPoint-8\" playOrder=\"8\"><navLabel><text>1 Nephi</text></navLabel><content src=\"1-ne.xhtml\"/></navPoint><navPoint id=\"navPoint-9\" playOrder=\"9\"><navLabel><text>2 Nephi</text></navLabel><content src=\"2-ne.xhtml\"/></navPoint><navPoint id=\"navPoint-10\" playOrder=\"10\"><navLabel><text>Jacob</text></navLabel><content src=\"jacob.xhtml\"/></navPoint><navPoint id=\"navPoint-11\" playOrder=\"11\"><navLabel><text>Enos</text></navLabel><content src=\"enos.xhtml\"/></navPoint><navPoint id=\"navPoint-12\" playOrder=\"12\"><navLabel><text>Jarom</text></navLabel><content src=\"jarom.xhtml\"/></navPoint><navPoint id=\"navPoint-13\" playOrder=\"13\"><navLabel><text>Omni</text></navLabel><content src=\"omni.xhtml\"/></navPoint><navPoint id=\"navPoint-14\" playOrder=\"14\"><navLabel><text>Words of Mormon</text></navLabel><content src=\"w-of-m.xhtml\"/></navPoint><navPoint id=\"navPoint-15\" playOrder=\"15\"><navLabel><text>Mosiah</text></navLabel><content src=\"mosiah.xhtml\"/></navPoint><navPoint id=\"navPoint-16\" playOrder=\"16\"><navLabel><text>Alma</text></navLabel><content src=\"alma.xhtml\"/></navPoint><navPoint id=\"navPoint-17\" playOrder=\"17\"><navLabel><text>Helaman</text></navLabel><content src=\"hel.xhtml\"/></navPoint><navPoint id=\"navPoint-18\" playOrder=\"18\"><navLabel><text>3 Nephi</text></navLabel><content src=\"3-ne.xhtml\"/></navPoint><navPoint id=\"navPoint-19\" playOrder=\"19\"><navLabel><text>4 Nephi</text></navLabel><content src=\"4-ne.xhtml\"/></navPoint><navPoint id=\"navPoint-20\" playOrder=\"20\"><navLabel><text>Mormon</text></navLabel><content src=\"morm.xhtml\"/></navPoint><navPoint id=\"navPoint-21\" playOrder=\"21\"><navLabel><text>Ether</text></navLabel><content src=\"ether.xhtml\"/></navPoint><navPoint id=\"navPoint-22\" playOrder=\"22\"><navLabel><text>Moroni</text></navLabel><content src=\"moro.xhtml\"/></navPoint><navPoint id=\"navPoint-23\" playOrder=\"23\"><navLabel><text>Pronunciation Guide</text></navLabel><content src=\"bofm_pronunciation.xhtml\"/></navPoint><navPoint id=\"navPoint-24\" playOrder=\"24\"><navLabel><text>Reference Guide</text></navLabel><content src=\"bofm_reference.xhtml\"/></navPoint></navMap></ncx>'\n"
     ]
    }
   ],
   "source": [
    "print(tocFile)"
   ]
  },
  {
   "cell_type": "markdown",
   "metadata": {},
   "source": [
    "This \"root\" thing is the main item in the XML document. All the subsequent things are nested underneath it. It's an ElementTree, which means it can have child thigs. It's based on the XML above, which is not so clear to see from the way it's been printed without line-breaks and indentations.\n"
   ]
  },
  {
   "cell_type": "markdown",
   "metadata": {
    "collapsed": true
   },
   "source": [
    "tocRoot = ElementTree.fromstring(tocFile)"
   ]
  },
  {
   "cell_type": "markdown",
   "metadata": {},
   "source": [
    "The xml element tree class has a function \"iter\" which iterates recursively through the whole tree, but as will be seen, it does it all on one level, you don't really get a feel for which things are children and which are parents. So I'll need to write a better function."
   ]
  },
  {
   "cell_type": "code",
   "execution_count": 56,
   "metadata": {
    "collapsed": false
   },
   "outputs": [
    {
     "name": "stdout",
     "output_type": "stream",
     "text": [
      "<Element '{http://www.daisy.org/z3986/2005/ncx/}ncx' at 0x7f7ed2f161d8>\n",
      "<Element '{http://www.daisy.org/z3986/2005/ncx/}head' at 0x7f7ed2f166d8>\n",
      "<Element '{http://www.daisy.org/z3986/2005/ncx/}meta' at 0x7f7ed2f16778>\n",
      "<Element '{http://www.daisy.org/z3986/2005/ncx/}meta' at 0x7f7ed2f167c8>\n",
      "<Element '{http://www.daisy.org/z3986/2005/ncx/}meta' at 0x7f7ed2f16818>\n",
      "<Element '{http://www.daisy.org/z3986/2005/ncx/}meta' at 0x7f7ed2f16868>\n",
      "<Element '{http://www.daisy.org/z3986/2005/ncx/}docTitle' at 0x7f7ed2f16908>\n",
      "<Element '{http://www.daisy.org/z3986/2005/ncx/}text' at 0x7f7ed2f169a8>\n",
      "<Element '{http://www.daisy.org/z3986/2005/ncx/}navMap' at 0x7f7ed2f16a48>\n",
      "<Element '{http://www.daisy.org/z3986/2005/ncx/}navPoint' at 0x7f7ed2f16ae8>\n",
      "<Element '{http://www.daisy.org/z3986/2005/ncx/}navLabel' at 0x7f7ed2f16b88>\n",
      "<Element '{http://www.daisy.org/z3986/2005/ncx/}text' at 0x7f7ed2f16bd8>\n",
      "<Element '{http://www.daisy.org/z3986/2005/ncx/}content' at 0x7f7ed2f16c78>\n",
      "<Element '{http://www.daisy.org/z3986/2005/ncx/}navPoint' at 0x7f7ed2f16cc8>\n",
      "<Element '{http://www.daisy.org/z3986/2005/ncx/}navLabel' at 0x7f7ed2f16d18>\n",
      "<Element '{http://www.daisy.org/z3986/2005/ncx/}text' at 0x7f7ed2f16d68>\n",
      "<Element '{http://www.daisy.org/z3986/2005/ncx/}content' at 0x7f7ed2f16db8>\n",
      "<Element '{http://www.daisy.org/z3986/2005/ncx/}navPoint' at 0x7f7ed2f16e08>\n",
      "<Element '{http://www.daisy.org/z3986/2005/ncx/}navLabel' at 0x7f7ed2f16e58>\n",
      "<Element '{http://www.daisy.org/z3986/2005/ncx/}text' at 0x7f7ed2f16ea8>\n",
      "<Element '{http://www.daisy.org/z3986/2005/ncx/}content' at 0x7f7ed2f16f48>\n",
      "<Element '{http://www.daisy.org/z3986/2005/ncx/}navPoint' at 0x7f7ed2f16f98>\n",
      "<Element '{http://www.daisy.org/z3986/2005/ncx/}navLabel' at 0x7f7ed2f30048>\n",
      "<Element '{http://www.daisy.org/z3986/2005/ncx/}text' at 0x7f7ed2f30098>\n",
      "<Element '{http://www.daisy.org/z3986/2005/ncx/}content' at 0x7f7ed2f30138>\n",
      "<Element '{http://www.daisy.org/z3986/2005/ncx/}navPoint' at 0x7f7ed2f30188>\n",
      "<Element '{http://www.daisy.org/z3986/2005/ncx/}navLabel' at 0x7f7ed2f301d8>\n",
      "<Element '{http://www.daisy.org/z3986/2005/ncx/}text' at 0x7f7ed2f30228>\n",
      "<Element '{http://www.daisy.org/z3986/2005/ncx/}content' at 0x7f7ed2f30278>\n",
      "<Element '{http://www.daisy.org/z3986/2005/ncx/}navPoint' at 0x7f7ed2f302c8>\n",
      "<Element '{http://www.daisy.org/z3986/2005/ncx/}navLabel' at 0x7f7ed2f30318>\n",
      "<Element '{http://www.daisy.org/z3986/2005/ncx/}text' at 0x7f7ed2f30368>\n",
      "<Element '{http://www.daisy.org/z3986/2005/ncx/}content' at 0x7f7ed2f303b8>\n",
      "<Element '{http://www.daisy.org/z3986/2005/ncx/}navPoint' at 0x7f7ed2f30408>\n",
      "<Element '{http://www.daisy.org/z3986/2005/ncx/}navLabel' at 0x7f7ed2f30458>\n",
      "<Element '{http://www.daisy.org/z3986/2005/ncx/}text' at 0x7f7ed2f304a8>\n",
      "<Element '{http://www.daisy.org/z3986/2005/ncx/}content' at 0x7f7ed2f30548>\n",
      "<Element '{http://www.daisy.org/z3986/2005/ncx/}navPoint' at 0x7f7ed2f30598>\n",
      "<Element '{http://www.daisy.org/z3986/2005/ncx/}navLabel' at 0x7f7ed2f305e8>\n",
      "<Element '{http://www.daisy.org/z3986/2005/ncx/}text' at 0x7f7ed2f30638>\n",
      "<Element '{http://www.daisy.org/z3986/2005/ncx/}content' at 0x7f7ed2f30688>\n",
      "<Element '{http://www.daisy.org/z3986/2005/ncx/}navPoint' at 0x7f7ed2f306d8>\n",
      "<Element '{http://www.daisy.org/z3986/2005/ncx/}navLabel' at 0x7f7ed2f30728>\n",
      "<Element '{http://www.daisy.org/z3986/2005/ncx/}text' at 0x7f7ed2f30778>\n",
      "<Element '{http://www.daisy.org/z3986/2005/ncx/}content' at 0x7f7ed2f307c8>\n",
      "<Element '{http://www.daisy.org/z3986/2005/ncx/}navPoint' at 0x7f7ed2f30818>\n",
      "<Element '{http://www.daisy.org/z3986/2005/ncx/}navLabel' at 0x7f7ed2f30868>\n",
      "<Element '{http://www.daisy.org/z3986/2005/ncx/}text' at 0x7f7ed2f308b8>\n",
      "<Element '{http://www.daisy.org/z3986/2005/ncx/}content' at 0x7f7ed2f30908>\n",
      "<Element '{http://www.daisy.org/z3986/2005/ncx/}navPoint' at 0x7f7ed2f30958>\n",
      "<Element '{http://www.daisy.org/z3986/2005/ncx/}navLabel' at 0x7f7ed2f309a8>\n",
      "<Element '{http://www.daisy.org/z3986/2005/ncx/}text' at 0x7f7ed2f309f8>\n",
      "<Element '{http://www.daisy.org/z3986/2005/ncx/}content' at 0x7f7ed2f30a48>\n",
      "<Element '{http://www.daisy.org/z3986/2005/ncx/}navPoint' at 0x7f7ed2f30a98>\n",
      "<Element '{http://www.daisy.org/z3986/2005/ncx/}navLabel' at 0x7f7ed2f30ae8>\n",
      "<Element '{http://www.daisy.org/z3986/2005/ncx/}text' at 0x7f7ed2f30b38>\n",
      "<Element '{http://www.daisy.org/z3986/2005/ncx/}content' at 0x7f7ed2f30b88>\n",
      "<Element '{http://www.daisy.org/z3986/2005/ncx/}navPoint' at 0x7f7ed2f30bd8>\n",
      "<Element '{http://www.daisy.org/z3986/2005/ncx/}navLabel' at 0x7f7ed2f30c28>\n",
      "<Element '{http://www.daisy.org/z3986/2005/ncx/}text' at 0x7f7ed2f30c78>\n",
      "<Element '{http://www.daisy.org/z3986/2005/ncx/}content' at 0x7f7ed2f30cc8>\n",
      "<Element '{http://www.daisy.org/z3986/2005/ncx/}navPoint' at 0x7f7ed2f30d18>\n",
      "<Element '{http://www.daisy.org/z3986/2005/ncx/}navLabel' at 0x7f7ed2f30d68>\n",
      "<Element '{http://www.daisy.org/z3986/2005/ncx/}text' at 0x7f7ed2f30db8>\n",
      "<Element '{http://www.daisy.org/z3986/2005/ncx/}content' at 0x7f7ed2f30e08>\n",
      "<Element '{http://www.daisy.org/z3986/2005/ncx/}navPoint' at 0x7f7ed2f30e58>\n",
      "<Element '{http://www.daisy.org/z3986/2005/ncx/}navLabel' at 0x7f7ed2f30ea8>\n",
      "<Element '{http://www.daisy.org/z3986/2005/ncx/}text' at 0x7f7ed2f30ef8>\n",
      "<Element '{http://www.daisy.org/z3986/2005/ncx/}content' at 0x7f7ed2f30f48>\n",
      "<Element '{http://www.daisy.org/z3986/2005/ncx/}navPoint' at 0x7f7ed2f30f98>\n",
      "<Element '{http://www.daisy.org/z3986/2005/ncx/}navLabel' at 0x7f7ed2f32048>\n",
      "<Element '{http://www.daisy.org/z3986/2005/ncx/}text' at 0x7f7ed2f32098>\n",
      "<Element '{http://www.daisy.org/z3986/2005/ncx/}content' at 0x7f7ed2f320e8>\n",
      "<Element '{http://www.daisy.org/z3986/2005/ncx/}navPoint' at 0x7f7ed2f32138>\n",
      "<Element '{http://www.daisy.org/z3986/2005/ncx/}navLabel' at 0x7f7ed2f32188>\n",
      "<Element '{http://www.daisy.org/z3986/2005/ncx/}text' at 0x7f7ed2f321d8>\n",
      "<Element '{http://www.daisy.org/z3986/2005/ncx/}content' at 0x7f7ed2f32228>\n",
      "<Element '{http://www.daisy.org/z3986/2005/ncx/}navPoint' at 0x7f7ed2f32278>\n",
      "<Element '{http://www.daisy.org/z3986/2005/ncx/}navLabel' at 0x7f7ed2f322c8>\n",
      "<Element '{http://www.daisy.org/z3986/2005/ncx/}text' at 0x7f7ed2f32318>\n",
      "<Element '{http://www.daisy.org/z3986/2005/ncx/}content' at 0x7f7ed2f32368>\n",
      "<Element '{http://www.daisy.org/z3986/2005/ncx/}navPoint' at 0x7f7ed2f323b8>\n",
      "<Element '{http://www.daisy.org/z3986/2005/ncx/}navLabel' at 0x7f7ed2f32408>\n",
      "<Element '{http://www.daisy.org/z3986/2005/ncx/}text' at 0x7f7ed2f32458>\n",
      "<Element '{http://www.daisy.org/z3986/2005/ncx/}content' at 0x7f7ed2f324a8>\n",
      "<Element '{http://www.daisy.org/z3986/2005/ncx/}navPoint' at 0x7f7ed2f324f8>\n",
      "<Element '{http://www.daisy.org/z3986/2005/ncx/}navLabel' at 0x7f7ed2f32548>\n",
      "<Element '{http://www.daisy.org/z3986/2005/ncx/}text' at 0x7f7ed2f32598>\n",
      "<Element '{http://www.daisy.org/z3986/2005/ncx/}content' at 0x7f7ed2f325e8>\n",
      "<Element '{http://www.daisy.org/z3986/2005/ncx/}navPoint' at 0x7f7ed2f32638>\n",
      "<Element '{http://www.daisy.org/z3986/2005/ncx/}navLabel' at 0x7f7ed2f32688>\n",
      "<Element '{http://www.daisy.org/z3986/2005/ncx/}text' at 0x7f7ed2f326d8>\n",
      "<Element '{http://www.daisy.org/z3986/2005/ncx/}content' at 0x7f7ed2f32728>\n",
      "<Element '{http://www.daisy.org/z3986/2005/ncx/}navPoint' at 0x7f7ed2f32778>\n",
      "<Element '{http://www.daisy.org/z3986/2005/ncx/}navLabel' at 0x7f7ed2f327c8>\n",
      "<Element '{http://www.daisy.org/z3986/2005/ncx/}text' at 0x7f7ed2f32818>\n",
      "<Element '{http://www.daisy.org/z3986/2005/ncx/}content' at 0x7f7ed2f32868>\n",
      "<Element '{http://www.daisy.org/z3986/2005/ncx/}navPoint' at 0x7f7ed2f328b8>\n",
      "<Element '{http://www.daisy.org/z3986/2005/ncx/}navLabel' at 0x7f7ed2f32908>\n",
      "<Element '{http://www.daisy.org/z3986/2005/ncx/}text' at 0x7f7ed2f32958>\n",
      "<Element '{http://www.daisy.org/z3986/2005/ncx/}content' at 0x7f7ed2f329f8>\n",
      "<Element '{http://www.daisy.org/z3986/2005/ncx/}navPoint' at 0x7f7ed2f32a48>\n",
      "<Element '{http://www.daisy.org/z3986/2005/ncx/}navLabel' at 0x7f7ed2f32a98>\n",
      "<Element '{http://www.daisy.org/z3986/2005/ncx/}text' at 0x7f7ed2f32ae8>\n",
      "<Element '{http://www.daisy.org/z3986/2005/ncx/}content' at 0x7f7ed2f32b38>\n"
     ]
    }
   ],
   "source": [
    "for element in tocRoot.iter():\n",
    "    print(element)"
   ]
  },
  {
   "cell_type": "code",
   "execution_count": null,
   "metadata": {
    "collapsed": true
   },
   "outputs": [],
   "source": [
    "def recurseElementTree(etree):\n",
    "    # TODO: Carry on here. Lenochka is sleeping and I need to put her to bed."
   ]
  },
  {
   "cell_type": "code",
   "execution_count": 11,
   "metadata": {
    "collapsed": false
   },
   "outputs": [
    {
     "name": "stdout",
     "output_type": "stream",
     "text": [
      "<Element '{http://www.daisy.org/z3986/2005/ncx/}head' at 0x7f7ed2f166d8>\n",
      "<Element '{http://www.daisy.org/z3986/2005/ncx/}docTitle' at 0x7f7ed2f16908>\n",
      "<Element '{http://www.daisy.org/z3986/2005/ncx/}navMap' at 0x7f7ed2f16a48>\n"
     ]
    }
   ],
   "source": [
    "for element in tocRoot:\n",
    "    print(element)"
   ]
  },
  {
   "cell_type": "markdown",
   "metadata": {},
   "source": [
    "This \"navMap\" thing is the XML block which has the actual table of contents in it.\n",
    "\n",
    "It probably makes clickable links in the epub as well, but I'm not terribly worried about that..."
   ]
  },
  {
   "cell_type": "code",
   "execution_count": 12,
   "metadata": {
    "collapsed": true
   },
   "outputs": [],
   "source": [
    "tocNavMap = tocRoot[2]"
   ]
  },
  {
   "cell_type": "markdown",
   "metadata": {},
   "source": [
    "It's got the same type as its parent."
   ]
  },
  {
   "cell_type": "code",
   "execution_count": 13,
   "metadata": {
    "collapsed": false
   },
   "outputs": [
    {
     "data": {
      "text/plain": [
       "xml.etree.ElementTree.Element"
      ]
     },
     "execution_count": 13,
     "metadata": {},
     "output_type": "execute_result"
    }
   ],
   "source": [
    "type(tocNavMap)"
   ]
  },
  {
   "cell_type": "code",
   "execution_count": 22,
   "metadata": {
    "collapsed": false
   },
   "outputs": [
    {
     "name": "stdout",
     "output_type": "stream",
     "text": [
      "<Element '{http://www.daisy.org/z3986/2005/ncx/}navPoint' at 0x7f7ed2f16ae8>\n",
      "<Element '{http://www.daisy.org/z3986/2005/ncx/}navPoint' at 0x7f7ed2f16cc8>\n",
      "<Element '{http://www.daisy.org/z3986/2005/ncx/}navPoint' at 0x7f7ed2f16e08>\n",
      "<Element '{http://www.daisy.org/z3986/2005/ncx/}navPoint' at 0x7f7ed2f16f98>\n",
      "<Element '{http://www.daisy.org/z3986/2005/ncx/}navPoint' at 0x7f7ed2f30188>\n",
      "<Element '{http://www.daisy.org/z3986/2005/ncx/}navPoint' at 0x7f7ed2f302c8>\n",
      "<Element '{http://www.daisy.org/z3986/2005/ncx/}navPoint' at 0x7f7ed2f30408>\n",
      "<Element '{http://www.daisy.org/z3986/2005/ncx/}navPoint' at 0x7f7ed2f30598>\n",
      "<Element '{http://www.daisy.org/z3986/2005/ncx/}navPoint' at 0x7f7ed2f306d8>\n",
      "<Element '{http://www.daisy.org/z3986/2005/ncx/}navPoint' at 0x7f7ed2f30818>\n",
      "<Element '{http://www.daisy.org/z3986/2005/ncx/}navPoint' at 0x7f7ed2f30958>\n",
      "<Element '{http://www.daisy.org/z3986/2005/ncx/}navPoint' at 0x7f7ed2f30a98>\n",
      "<Element '{http://www.daisy.org/z3986/2005/ncx/}navPoint' at 0x7f7ed2f30bd8>\n",
      "<Element '{http://www.daisy.org/z3986/2005/ncx/}navPoint' at 0x7f7ed2f30d18>\n",
      "<Element '{http://www.daisy.org/z3986/2005/ncx/}navPoint' at 0x7f7ed2f30e58>\n",
      "<Element '{http://www.daisy.org/z3986/2005/ncx/}navPoint' at 0x7f7ed2f30f98>\n",
      "<Element '{http://www.daisy.org/z3986/2005/ncx/}navPoint' at 0x7f7ed2f32138>\n",
      "<Element '{http://www.daisy.org/z3986/2005/ncx/}navPoint' at 0x7f7ed2f32278>\n",
      "<Element '{http://www.daisy.org/z3986/2005/ncx/}navPoint' at 0x7f7ed2f323b8>\n",
      "<Element '{http://www.daisy.org/z3986/2005/ncx/}navPoint' at 0x7f7ed2f324f8>\n",
      "<Element '{http://www.daisy.org/z3986/2005/ncx/}navPoint' at 0x7f7ed2f32638>\n",
      "<Element '{http://www.daisy.org/z3986/2005/ncx/}navPoint' at 0x7f7ed2f32778>\n",
      "<Element '{http://www.daisy.org/z3986/2005/ncx/}navPoint' at 0x7f7ed2f328b8>\n",
      "<Element '{http://www.daisy.org/z3986/2005/ncx/}navPoint' at 0x7f7ed2f32a48>\n"
     ]
    }
   ],
   "source": [
    "for element in tocNavMap:\n",
    "    print(element)"
   ]
  },
  {
   "cell_type": "code",
   "execution_count": 52,
   "metadata": {
    "collapsed": false
   },
   "outputs": [
    {
     "name": "stdout",
     "output_type": "stream",
     "text": [
      "2\n",
      "2\n",
      "2\n",
      "2\n",
      "2\n",
      "2\n",
      "2\n",
      "2\n",
      "2\n",
      "2\n",
      "2\n",
      "2\n",
      "2\n",
      "2\n",
      "2\n",
      "2\n",
      "2\n",
      "2\n",
      "2\n",
      "2\n",
      "2\n",
      "2\n",
      "2\n",
      "2\n"
     ]
    }
   ],
   "source": [
    "# Just a bit of messing around to see what's in here. Just turtles all the way down, it looks like.\n",
    "for element in tocNavMap:\n",
    "    print(\"\\nElement: {}\".format(element))\n",
    "    print(element.tag)\n",
    "    print(element.attrib)\n",
    "    print(type(element))\n",
    "    print(len(element))\n",
    "    print(dir(element))\n",
    "    for item in element:\n",
    "        print(\"\\nItem: {}\".format(item))\n",
    "        print(item.tag)\n",
    "        print(item.attrib)\n",
    "        print(type(item))\n",
    "        print(len(item))\n",
    "        print(dir(item))"
   ]
  },
  {
   "cell_type": "code",
   "execution_count": 45,
   "metadata": {
    "collapsed": false
   },
   "outputs": [],
   "source": [
    "tocNavMap.__getattribute__??"
   ]
  },
  {
   "cell_type": "code",
   "execution_count": 15,
   "metadata": {
    "collapsed": false
   },
   "outputs": [
    {
     "name": "stdout",
     "output_type": "stream",
     "text": [
      "['bofm_bofm-title.xhtml', 'bofm_introduction.xhtml', 'bofm_three.xhtml', 'bofm_eight.xhtml', 'bofm_js.xhtml', 'bofm_explanation.xhtml', 'bofm-illustrations.xhtml', '1-ne.xhtml', '2-ne.xhtml', 'jacob.xhtml', 'enos.xhtml', 'jarom.xhtml', 'omni.xhtml', 'w-of-m.xhtml', 'mosiah.xhtml', 'alma.xhtml', 'hel.xhtml', '3-ne.xhtml', '4-ne.xhtml', 'morm.xhtml', 'ether.xhtml', 'moro.xhtml', 'bofm_pronunciation.xhtml', 'bofm_reference.xhtml']\n"
     ]
    }
   ],
   "source": [
    "# Extract the individual item paths from the navMap.\n",
    "tocItems = [item[1].attrib[\"src\"] for item in tocNavMap]\n",
    "print(tocItems)"
   ]
  },
  {
   "cell_type": "code",
   "execution_count": 16,
   "metadata": {
    "collapsed": true
   },
   "outputs": [],
   "source": [
    "# Get the same XML roots for each individual item in the TOC.\n",
    "tocItemsRoots = [ElementTree.fromstring(BoMEpub.read(\"OEBPS/%s\"%item)) for item in tocItems]"
   ]
  },
  {
   "cell_type": "code",
   "execution_count": 17,
   "metadata": {
    "collapsed": false
   },
   "outputs": [
    {
     "name": "stdout",
     "output_type": "stream",
     "text": [
      "Chapter: bofm_bofm-title\n",
      "Chapter: bofm_introduction\n",
      "Chapter: bofm_three\n",
      "Chapter: bofm_eight\n",
      "Chapter: bofm_js\n",
      "Chapter: bofm_explanation\n",
      "Book: 1-ne\n",
      "Book: 2-ne\n",
      "Book: jacob\n",
      "Book: enos\n",
      "Book: jarom\n",
      "Book: omni\n",
      "Book: w-of-m\n",
      "Book: mosiah\n",
      "Book: alma\n",
      "Book: hel\n",
      "Book: 3-ne\n",
      "Book: 4-ne\n",
      "Book: morm\n",
      "Book: ether\n",
      "Book: moro\n",
      "Chapter: bofm_pronunciation\n",
      "Chapter: bofm_reference\n"
     ]
    }
   ],
   "source": [
    "bookFileList = []\n",
    "\n",
    "for item in tocItemsRoots:\n",
    "    if \"chapter\" in item[1].attrib[\"class\"]:\n",
    "        pass        \n",
    "        print(\"Chapter: {0}\".format(item[1].attrib[\"class\"][len(\"chapter\") + 1:]))\n",
    "    elif \"book\" in item[1].attrib[\"class\"]:\n",
    "        if \"illustrations\" not in item[1].attrib[\"class\"]:\n",
    "            print(\"Book: {0}\".format(item[1].attrib[\"class\"][len(\"book\") + 1:]))\n",
    "            bookFileList.append(BoMEpub.read(\"OEBPS/{0}.xhtml\".format(item[1].attrib[\"class\"][len(\"book\") + 1:])))\n",
    "    else:\n",
    "        pass"
   ]
  },
  {
   "cell_type": "code",
   "execution_count": 18,
   "metadata": {
    "collapsed": false
   },
   "outputs": [
    {
     "name": "stdout",
     "output_type": "stream",
     "text": [
      "{'class': 'title', 'title': '1 Nephi', 'id': 'lds_1-ne_title'}\n",
      "{'class': 'subtitle'}\n",
      "{'class': 'intro', 'id': 'lds_1-ne_intro'}\n",
      "{'class': 'title', 'title': '2 Nephi', 'id': 'lds_2-ne_title'}\n",
      "{'class': 'intro', 'id': 'lds_2-ne_intro'}\n",
      "{'class': 'title', 'title': 'Jacob', 'id': 'lds_jacob_title'}\n",
      "{'class': 'intro', 'id': 'lds_jacob_intro'}\n",
      "{'class': 'title', 'title': 'Enos', 'id': 'lds_enos_title'}\n",
      "{'class': 'titleNumber', 'id': 'lds_enos_1_title'}\n",
      "{'class': 'studySummary', 'id': 'lds_enos_1_intro'}\n",
      "{'class': 'title', 'title': 'Jarom', 'id': 'lds_jarom_title'}\n",
      "{'class': 'titleNumber', 'id': 'lds_jarom_1_title'}\n",
      "{'class': 'studySummary', 'id': 'lds_jarom_1_intro'}\n",
      "{'class': 'title', 'title': 'Omni', 'id': 'lds_omni_title'}\n",
      "{'class': 'titleNumber', 'id': 'lds_omni_1_title'}\n",
      "{'class': 'studySummary', 'id': 'lds_omni_1_intro'}\n",
      "{'class': 'title', 'title': 'Words of Mormon', 'id': 'lds_w-of-m_title'}\n",
      "{'class': 'titleNumber', 'id': 'lds_w-of-m_1_title'}\n",
      "{'class': 'studySummary', 'id': 'lds_w-of-m_1_intro'}\n",
      "{'class': 'title', 'title': 'Mosiah', 'id': 'lds_mosiah_title'}\n",
      "{'class': 'title', 'title': 'Alma', 'id': 'lds_alma_title'}\n",
      "{'class': 'intro', 'id': 'lds_alma_intro'}\n",
      "{'class': 'title', 'title': 'Helaman', 'id': 'lds_hel_title'}\n",
      "{'class': 'intro', 'id': 'lds_hel_intro'}\n",
      "{'class': 'title', 'title': '3 Nephi', 'id': 'lds_3-ne_title'}\n",
      "{'class': 'title', 'title': '3 Nephi'}\n",
      "{'class': 'intro', 'id': 'lds_3-ne_intro'}\n",
      "{'class': 'title', 'title': '4 Nephi', 'id': 'lds_4-ne_title'}\n",
      "{'class': 'title', 'title': '4 Nephi'}\n",
      "{'class': 'intro', 'id': 'lds_4-ne_intro'}\n",
      "{'class': 'titleNumber', 'id': 'lds_4-ne_1_title'}\n",
      "{'class': 'studySummary', 'id': 'lds_4-ne_1_intro'}\n",
      "{'class': 'title', 'title': 'Mormon', 'id': 'lds_morm_title'}\n",
      "{'class': 'title', 'title': 'Ether', 'id': 'lds_ether_title'}\n",
      "{'class': 'studyIntro', 'id': 'lds_ether_intro'}\n",
      "{'class': 'title', 'title': 'Moroni', 'id': 'lds_moro_title'}\n"
     ]
    }
   ],
   "source": [
    "bookRootList = []\n",
    "for file in bookFileList:\n",
    "    bookRootList.append(ElementTree.fromstring(file))\n",
    "    for child in bookRootList[-1][1][0]:\n",
    "        print(child.attrib)"
   ]
  },
  {
   "cell_type": "code",
   "execution_count": null,
   "metadata": {
    "collapsed": true
   },
   "outputs": [],
   "source": []
  }
 ],
 "metadata": {
  "kernelspec": {
   "display_name": "Python 3",
   "language": "python",
   "name": "python3"
  },
  "language_info": {
   "codemirror_mode": {
    "name": "ipython",
    "version": 3
   },
   "file_extension": ".py",
   "mimetype": "text/x-python",
   "name": "python",
   "nbconvert_exporter": "python",
   "pygments_lexer": "ipython3",
   "version": "3.4.2"
  }
 },
 "nbformat": 4,
 "nbformat_minor": 1
}
