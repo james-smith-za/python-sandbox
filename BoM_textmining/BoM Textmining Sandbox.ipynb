{
 "cells": [
  {
   "cell_type": "code",
   "execution_count": 1,
   "metadata": {
    "collapsed": true
   },
   "outputs": [],
   "source": [
    "import zipfile"
   ]
  },
  {
   "cell_type": "code",
   "execution_count": 2,
   "metadata": {
    "collapsed": true
   },
   "outputs": [],
   "source": [
    "import xml.etree.ElementTree as ElementTree # A simple API for parsing and creating XML data. I'm just parsing here."
   ]
  },
  {
   "cell_type": "markdown",
   "metadata": {},
   "source": [
    "This from the python documentation page:\n",
    "https://docs.python.org/3.4/library/xml.etree.elementtree.html\n",
    "Warning The xml.etree.ElementTree module is not secure against maliciously constructed data. If you need to parse untrusted or unauthenticated data see XML vulnerabilities.\n",
    "\n",
    "The church's epub download is probably safe. But just to be careful."
   ]
  },
  {
   "cell_type": "code",
   "execution_count": 3,
   "metadata": {
    "collapsed": false
   },
   "outputs": [],
   "source": [
    "BoMEpub = zipfile.ZipFile(\"book-of-mormon-eng.epub\")"
   ]
  },
  {
   "cell_type": "markdown",
   "metadata": {},
   "source": [
    "The object has a filelist member which gives a list of \"file\" objects. Still need to work out how these work exactly."
   ]
  },
  {
   "cell_type": "code",
   "execution_count": 4,
   "metadata": {
    "collapsed": false
   },
   "outputs": [
    {
     "name": "stdout",
     "output_type": "stream",
     "text": [
      "mimetype\n",
      "OEBPS/images/03990_000_bofm_000-cover.jpg\n",
      "OEBPS/lds_ePub_scriptures.css\n",
      "OEBPS/images/03990_000_bofm-image-1.jpg\n",
      "OEBPS/images/03990_000_bofm-image-2.jpg\n",
      "OEBPS/images/03990_000_bofm-image-3.jpg\n",
      "OEBPS/images/03990_000_bofm-image-4.jpg\n",
      "OEBPS/images/03990_000_bofm-image-5.jpg\n",
      "OEBPS/images/03990_000_bofm-image-6.jpg\n",
      "OEBPS/images/03990_000_bofm-image-7.jpg\n",
      "OEBPS/images/03990_000_bofm-image-8.jpg\n",
      "META-INF/container.xml\n",
      "OEBPS/1-ne.xhtml\n",
      "OEBPS/1-ne_1.xhtml\n",
      "OEBPS/1-ne_10.xhtml\n",
      "OEBPS/1-ne_11.xhtml\n",
      "OEBPS/1-ne_12.xhtml\n",
      "OEBPS/1-ne_13.xhtml\n",
      "OEBPS/1-ne_14.xhtml\n",
      "OEBPS/1-ne_15.xhtml\n",
      "OEBPS/1-ne_16.xhtml\n",
      "OEBPS/1-ne_17.xhtml\n",
      "OEBPS/1-ne_18.xhtml\n",
      "OEBPS/1-ne_19.xhtml\n",
      "OEBPS/1-ne_2.xhtml\n",
      "OEBPS/1-ne_20.xhtml\n",
      "OEBPS/1-ne_21.xhtml\n",
      "OEBPS/1-ne_22.xhtml\n",
      "OEBPS/1-ne_3.xhtml\n",
      "OEBPS/1-ne_4.xhtml\n",
      "OEBPS/1-ne_5.xhtml\n",
      "OEBPS/1-ne_6.xhtml\n",
      "OEBPS/1-ne_7.xhtml\n",
      "OEBPS/1-ne_8.xhtml\n",
      "OEBPS/1-ne_9.xhtml\n",
      "OEBPS/2-ne.xhtml\n",
      "OEBPS/2-ne_1.xhtml\n",
      "OEBPS/2-ne_10.xhtml\n",
      "OEBPS/2-ne_11.xhtml\n",
      "OEBPS/2-ne_12.xhtml\n",
      "OEBPS/2-ne_13.xhtml\n",
      "OEBPS/2-ne_14.xhtml\n",
      "OEBPS/2-ne_15.xhtml\n",
      "OEBPS/2-ne_16.xhtml\n",
      "OEBPS/2-ne_17.xhtml\n",
      "OEBPS/2-ne_18.xhtml\n",
      "OEBPS/2-ne_19.xhtml\n",
      "OEBPS/2-ne_2.xhtml\n",
      "OEBPS/2-ne_20.xhtml\n",
      "OEBPS/2-ne_21.xhtml\n",
      "OEBPS/2-ne_22.xhtml\n",
      "OEBPS/2-ne_23.xhtml\n",
      "OEBPS/2-ne_24.xhtml\n",
      "OEBPS/2-ne_25.xhtml\n",
      "OEBPS/2-ne_26.xhtml\n",
      "OEBPS/2-ne_27.xhtml\n",
      "OEBPS/2-ne_28.xhtml\n",
      "OEBPS/2-ne_29.xhtml\n",
      "OEBPS/2-ne_3.xhtml\n",
      "OEBPS/2-ne_30.xhtml\n",
      "OEBPS/2-ne_31.xhtml\n",
      "OEBPS/2-ne_32.xhtml\n",
      "OEBPS/2-ne_33.xhtml\n",
      "OEBPS/2-ne_4.xhtml\n",
      "OEBPS/2-ne_5.xhtml\n",
      "OEBPS/2-ne_6.xhtml\n",
      "OEBPS/2-ne_7.xhtml\n",
      "OEBPS/2-ne_8.xhtml\n",
      "OEBPS/2-ne_9.xhtml\n",
      "OEBPS/3-ne.xhtml\n",
      "OEBPS/3-ne_1.xhtml\n",
      "OEBPS/3-ne_10.xhtml\n",
      "OEBPS/3-ne_11.xhtml\n",
      "OEBPS/3-ne_12.xhtml\n",
      "OEBPS/3-ne_13.xhtml\n",
      "OEBPS/3-ne_14.xhtml\n",
      "OEBPS/3-ne_15.xhtml\n",
      "OEBPS/3-ne_16.xhtml\n",
      "OEBPS/3-ne_17.xhtml\n",
      "OEBPS/3-ne_18.xhtml\n",
      "OEBPS/3-ne_19.xhtml\n",
      "OEBPS/3-ne_2.xhtml\n",
      "OEBPS/3-ne_20.xhtml\n",
      "OEBPS/3-ne_21.xhtml\n",
      "OEBPS/3-ne_22.xhtml\n",
      "OEBPS/3-ne_23.xhtml\n",
      "OEBPS/3-ne_24.xhtml\n",
      "OEBPS/3-ne_25.xhtml\n",
      "OEBPS/3-ne_26.xhtml\n",
      "OEBPS/3-ne_27.xhtml\n",
      "OEBPS/3-ne_28.xhtml\n",
      "OEBPS/3-ne_29.xhtml\n",
      "OEBPS/3-ne_3.xhtml\n",
      "OEBPS/3-ne_30.xhtml\n",
      "OEBPS/3-ne_4.xhtml\n",
      "OEBPS/3-ne_5.xhtml\n",
      "OEBPS/3-ne_6.xhtml\n",
      "OEBPS/3-ne_7.xhtml\n",
      "OEBPS/3-ne_8.xhtml\n",
      "OEBPS/3-ne_9.xhtml\n",
      "OEBPS/4-ne.xhtml\n",
      "OEBPS/alma.xhtml\n",
      "OEBPS/alma_1.xhtml\n",
      "OEBPS/alma_10.xhtml\n",
      "OEBPS/alma_11.xhtml\n",
      "OEBPS/alma_12.xhtml\n",
      "OEBPS/alma_13.xhtml\n",
      "OEBPS/alma_14.xhtml\n",
      "OEBPS/alma_15.xhtml\n",
      "OEBPS/alma_16.xhtml\n",
      "OEBPS/alma_17.xhtml\n",
      "OEBPS/alma_18.xhtml\n",
      "OEBPS/alma_19.xhtml\n",
      "OEBPS/alma_2.xhtml\n",
      "OEBPS/alma_20.xhtml\n",
      "OEBPS/alma_21.xhtml\n",
      "OEBPS/alma_22.xhtml\n",
      "OEBPS/alma_23.xhtml\n",
      "OEBPS/alma_24.xhtml\n",
      "OEBPS/alma_25.xhtml\n",
      "OEBPS/alma_26.xhtml\n",
      "OEBPS/alma_27.xhtml\n",
      "OEBPS/alma_28.xhtml\n",
      "OEBPS/alma_29.xhtml\n",
      "OEBPS/alma_3.xhtml\n",
      "OEBPS/alma_30.xhtml\n",
      "OEBPS/alma_31.xhtml\n",
      "OEBPS/alma_32.xhtml\n",
      "OEBPS/alma_33.xhtml\n",
      "OEBPS/alma_34.xhtml\n",
      "OEBPS/alma_35.xhtml\n",
      "OEBPS/alma_36.xhtml\n",
      "OEBPS/alma_37.xhtml\n",
      "OEBPS/alma_38.xhtml\n",
      "OEBPS/alma_39.xhtml\n",
      "OEBPS/alma_4.xhtml\n",
      "OEBPS/alma_40.xhtml\n",
      "OEBPS/alma_41.xhtml\n",
      "OEBPS/alma_42.xhtml\n",
      "OEBPS/alma_43.xhtml\n",
      "OEBPS/alma_44.xhtml\n",
      "OEBPS/alma_45.xhtml\n",
      "OEBPS/alma_46.xhtml\n",
      "OEBPS/alma_47.xhtml\n",
      "OEBPS/alma_48.xhtml\n",
      "OEBPS/alma_49.xhtml\n",
      "OEBPS/alma_5.xhtml\n",
      "OEBPS/alma_50.xhtml\n",
      "OEBPS/alma_51.xhtml\n",
      "OEBPS/alma_52.xhtml\n",
      "OEBPS/alma_53.xhtml\n",
      "OEBPS/alma_54.xhtml\n",
      "OEBPS/alma_55.xhtml\n",
      "OEBPS/alma_56.xhtml\n",
      "OEBPS/alma_57.xhtml\n",
      "OEBPS/alma_58.xhtml\n",
      "OEBPS/alma_59.xhtml\n",
      "OEBPS/alma_6.xhtml\n",
      "OEBPS/alma_60.xhtml\n",
      "OEBPS/alma_61.xhtml\n",
      "OEBPS/alma_62.xhtml\n",
      "OEBPS/alma_63.xhtml\n",
      "OEBPS/alma_7.xhtml\n",
      "OEBPS/alma_8.xhtml\n",
      "OEBPS/alma_9.xhtml\n",
      "OEBPS/bofm-illustrations.xhtml\n",
      "OEBPS/bofm-toc.xhtml\n",
      "OEBPS/bofm.xhtml\n",
      "OEBPS/bofm_bofm-title.xhtml\n",
      "OEBPS/bofm_eight.xhtml\n",
      "OEBPS/bofm_explanation.xhtml\n",
      "OEBPS/bofm_illustration-1.xhtml\n",
      "OEBPS/bofm_illustration-2.xhtml\n",
      "OEBPS/bofm_illustration-3.xhtml\n",
      "OEBPS/bofm_illustration-4.xhtml\n",
      "OEBPS/bofm_illustration-5.xhtml\n",
      "OEBPS/bofm_illustration-6.xhtml\n",
      "OEBPS/bofm_illustration-7.xhtml\n",
      "OEBPS/bofm_illustration-8.xhtml\n",
      "OEBPS/bofm_introduction.xhtml\n",
      "OEBPS/bofm_js.xhtml\n",
      "OEBPS/bofm_pronunciation.xhtml\n",
      "OEBPS/bofm_reference.xhtml\n",
      "OEBPS/bofm_three.xhtml\n",
      "OEBPS/content.opf\n",
      "OEBPS/COPYRIGHT.txt\n",
      "OEBPS/cover.xhtml\n",
      "OEBPS/enos.xhtml\n",
      "OEBPS/ether.xhtml\n",
      "OEBPS/ether_1.xhtml\n",
      "OEBPS/ether_10.xhtml\n",
      "OEBPS/ether_11.xhtml\n",
      "OEBPS/ether_12.xhtml\n",
      "OEBPS/ether_13.xhtml\n",
      "OEBPS/ether_14.xhtml\n",
      "OEBPS/ether_15.xhtml\n",
      "OEBPS/ether_2.xhtml\n",
      "OEBPS/ether_3.xhtml\n",
      "OEBPS/ether_4.xhtml\n",
      "OEBPS/ether_5.xhtml\n",
      "OEBPS/ether_6.xhtml\n",
      "OEBPS/ether_7.xhtml\n",
      "OEBPS/ether_8.xhtml\n",
      "OEBPS/ether_9.xhtml\n",
      "OEBPS/hel.xhtml\n",
      "OEBPS/hel_1.xhtml\n",
      "OEBPS/hel_10.xhtml\n",
      "OEBPS/hel_11.xhtml\n",
      "OEBPS/hel_12.xhtml\n",
      "OEBPS/hel_13.xhtml\n",
      "OEBPS/hel_14.xhtml\n",
      "OEBPS/hel_15.xhtml\n",
      "OEBPS/hel_16.xhtml\n",
      "OEBPS/hel_2.xhtml\n",
      "OEBPS/hel_3.xhtml\n",
      "OEBPS/hel_4.xhtml\n",
      "OEBPS/hel_5.xhtml\n",
      "OEBPS/hel_6.xhtml\n",
      "OEBPS/hel_7.xhtml\n",
      "OEBPS/hel_8.xhtml\n",
      "OEBPS/hel_9.xhtml\n",
      "OEBPS/jacob.xhtml\n",
      "OEBPS/jacob_1.xhtml\n",
      "OEBPS/jacob_2.xhtml\n",
      "OEBPS/jacob_3.xhtml\n",
      "OEBPS/jacob_4.xhtml\n",
      "OEBPS/jacob_5.xhtml\n",
      "OEBPS/jacob_6.xhtml\n",
      "OEBPS/jacob_7.xhtml\n",
      "OEBPS/jarom.xhtml\n",
      "OEBPS/morm.xhtml\n",
      "OEBPS/morm_1.xhtml\n",
      "OEBPS/morm_2.xhtml\n",
      "OEBPS/morm_3.xhtml\n",
      "OEBPS/morm_4.xhtml\n",
      "OEBPS/morm_5.xhtml\n",
      "OEBPS/morm_6.xhtml\n",
      "OEBPS/morm_7.xhtml\n",
      "OEBPS/morm_8.xhtml\n",
      "OEBPS/morm_9.xhtml\n",
      "OEBPS/moro.xhtml\n",
      "OEBPS/moro_1.xhtml\n",
      "OEBPS/moro_10.xhtml\n",
      "OEBPS/moro_2.xhtml\n",
      "OEBPS/moro_3.xhtml\n",
      "OEBPS/moro_4.xhtml\n",
      "OEBPS/moro_5.xhtml\n",
      "OEBPS/moro_6.xhtml\n",
      "OEBPS/moro_7.xhtml\n",
      "OEBPS/moro_8.xhtml\n",
      "OEBPS/moro_9.xhtml\n",
      "OEBPS/mosiah.xhtml\n",
      "OEBPS/mosiah_1.xhtml\n",
      "OEBPS/mosiah_10.xhtml\n",
      "OEBPS/mosiah_11.xhtml\n",
      "OEBPS/mosiah_12.xhtml\n",
      "OEBPS/mosiah_13.xhtml\n",
      "OEBPS/mosiah_14.xhtml\n",
      "OEBPS/mosiah_15.xhtml\n",
      "OEBPS/mosiah_16.xhtml\n",
      "OEBPS/mosiah_17.xhtml\n",
      "OEBPS/mosiah_18.xhtml\n",
      "OEBPS/mosiah_19.xhtml\n",
      "OEBPS/mosiah_2.xhtml\n",
      "OEBPS/mosiah_20.xhtml\n",
      "OEBPS/mosiah_21.xhtml\n",
      "OEBPS/mosiah_22.xhtml\n",
      "OEBPS/mosiah_23.xhtml\n",
      "OEBPS/mosiah_24.xhtml\n",
      "OEBPS/mosiah_25.xhtml\n",
      "OEBPS/mosiah_26.xhtml\n",
      "OEBPS/mosiah_27.xhtml\n",
      "OEBPS/mosiah_28.xhtml\n",
      "OEBPS/mosiah_29.xhtml\n",
      "OEBPS/mosiah_3.xhtml\n",
      "OEBPS/mosiah_4.xhtml\n",
      "OEBPS/mosiah_5.xhtml\n",
      "OEBPS/mosiah_6.xhtml\n",
      "OEBPS/mosiah_7.xhtml\n",
      "OEBPS/mosiah_8.xhtml\n",
      "OEBPS/mosiah_9.xhtml\n",
      "OEBPS/omni.xhtml\n",
      "OEBPS/toc.ncx\n",
      "OEBPS/w-of-m.xhtml\n"
     ]
    }
   ],
   "source": [
    "for zipped_file in BoMEpub.filelist:\n",
    "    print(zipped_file.filename)"
   ]
  },
  {
   "cell_type": "markdown",
   "metadata": {},
   "source": [
    "The ZipFile object has a function called 'read' which returns the file whose name (including path) is given.\n",
    "\n",
    "The TOC is standard for an epub - the ZipFile object has the list object which we looked at previously, but it gives the files in alphabetical order, rather than in the right (book) order."
   ]
  },
  {
   "cell_type": "code",
   "execution_count": 5,
   "metadata": {
    "collapsed": false
   },
   "outputs": [],
   "source": [
    "tocFile = BoMEpub.read(\"OEBPS/toc.ncx\")"
   ]
  },
  {
   "cell_type": "markdown",
   "metadata": {},
   "source": [
    "This tocFile registers as a 'bytes' type, which seems odd, because it's just text. It could be that ZipFile will return any kind of file as 'bytes' that it gets from the zip."
   ]
  },
  {
   "cell_type": "code",
   "execution_count": 6,
   "metadata": {
    "collapsed": false
   },
   "outputs": [
    {
     "data": {
      "text/plain": [
       "bytes"
      ]
     },
     "execution_count": 6,
     "metadata": {},
     "output_type": "execute_result"
    }
   ],
   "source": [
    "type(tocFile)"
   ]
  },
  {
   "cell_type": "code",
   "execution_count": 7,
   "metadata": {
    "collapsed": false
   },
   "outputs": [
    {
     "name": "stdout",
     "output_type": "stream",
     "text": [
      "b'<?xml version=\"1.0\" encoding=\"UTF-8\"?>\\n<!DOCTYPE ncx\\n  PUBLIC \"-//NISO//DTD ncx 2005-1//EN\" \"http://www.daisy.org/z3986/2005/ncx-2005-1.dtd\">\\n<ncx xmlns=\"http://www.daisy.org/z3986/2005/ncx/\" version=\"2005-1\"><head><meta name=\"dtb:uid\" content=\"978-1-59297-692-8\"/><meta name=\"dtb:depth\" content=\"2\"/><meta name=\"dtb:totalPageCount\" content=\"0\"/><meta name=\"dtb:maxPageNumber\" content=\"0\"/></head><docTitle><text>Book of Mormon</text></docTitle><navMap><navPoint id=\"navPoint-1\" playOrder=\"1\"><navLabel><text>Title Page</text></navLabel><content src=\"bofm_bofm-title.xhtml\"/></navPoint><navPoint id=\"navPoint-2\" playOrder=\"2\"><navLabel><text>Introduction</text></navLabel><content src=\"bofm_introduction.xhtml\"/></navPoint><navPoint id=\"navPoint-3\" playOrder=\"3\"><navLabel><text>Testimony of Three Witnesses</text></navLabel><content src=\"bofm_three.xhtml\"/></navPoint><navPoint id=\"navPoint-4\" playOrder=\"4\"><navLabel><text>Testimony of Eight Witnesses</text></navLabel><content src=\"bofm_eight.xhtml\"/></navPoint><navPoint id=\"navPoint-5\" playOrder=\"5\"><navLabel><text>Testimony of the Prophet Joseph Smith</text></navLabel><content src=\"bofm_js.xhtml\"/></navPoint><navPoint id=\"navPoint-6\" playOrder=\"6\"><navLabel><text>Brief Explanation</text></navLabel><content src=\"bofm_explanation.xhtml\"/></navPoint><navPoint id=\"navPoint-7\" playOrder=\"7\"><navLabel><text>Illustrations</text></navLabel><content src=\"bofm-illustrations.xhtml\"/></navPoint><navPoint id=\"navPoint-8\" playOrder=\"8\"><navLabel><text>1 Nephi</text></navLabel><content src=\"1-ne.xhtml\"/></navPoint><navPoint id=\"navPoint-9\" playOrder=\"9\"><navLabel><text>2 Nephi</text></navLabel><content src=\"2-ne.xhtml\"/></navPoint><navPoint id=\"navPoint-10\" playOrder=\"10\"><navLabel><text>Jacob</text></navLabel><content src=\"jacob.xhtml\"/></navPoint><navPoint id=\"navPoint-11\" playOrder=\"11\"><navLabel><text>Enos</text></navLabel><content src=\"enos.xhtml\"/></navPoint><navPoint id=\"navPoint-12\" playOrder=\"12\"><navLabel><text>Jarom</text></navLabel><content src=\"jarom.xhtml\"/></navPoint><navPoint id=\"navPoint-13\" playOrder=\"13\"><navLabel><text>Omni</text></navLabel><content src=\"omni.xhtml\"/></navPoint><navPoint id=\"navPoint-14\" playOrder=\"14\"><navLabel><text>Words of Mormon</text></navLabel><content src=\"w-of-m.xhtml\"/></navPoint><navPoint id=\"navPoint-15\" playOrder=\"15\"><navLabel><text>Mosiah</text></navLabel><content src=\"mosiah.xhtml\"/></navPoint><navPoint id=\"navPoint-16\" playOrder=\"16\"><navLabel><text>Alma</text></navLabel><content src=\"alma.xhtml\"/></navPoint><navPoint id=\"navPoint-17\" playOrder=\"17\"><navLabel><text>Helaman</text></navLabel><content src=\"hel.xhtml\"/></navPoint><navPoint id=\"navPoint-18\" playOrder=\"18\"><navLabel><text>3 Nephi</text></navLabel><content src=\"3-ne.xhtml\"/></navPoint><navPoint id=\"navPoint-19\" playOrder=\"19\"><navLabel><text>4 Nephi</text></navLabel><content src=\"4-ne.xhtml\"/></navPoint><navPoint id=\"navPoint-20\" playOrder=\"20\"><navLabel><text>Mormon</text></navLabel><content src=\"morm.xhtml\"/></navPoint><navPoint id=\"navPoint-21\" playOrder=\"21\"><navLabel><text>Ether</text></navLabel><content src=\"ether.xhtml\"/></navPoint><navPoint id=\"navPoint-22\" playOrder=\"22\"><navLabel><text>Moroni</text></navLabel><content src=\"moro.xhtml\"/></navPoint><navPoint id=\"navPoint-23\" playOrder=\"23\"><navLabel><text>Pronunciation Guide</text></navLabel><content src=\"bofm_pronunciation.xhtml\"/></navPoint><navPoint id=\"navPoint-24\" playOrder=\"24\"><navLabel><text>Reference Guide</text></navLabel><content src=\"bofm_reference.xhtml\"/></navPoint></navMap></ncx>'\n"
     ]
    }
   ],
   "source": [
    "print(tocFile)"
   ]
  },
  {
   "cell_type": "markdown",
   "metadata": {},
   "source": [
    "This \"root\" thing is the main item in the XML document. All the subsequent things are nested underneath it. It's an ElementTree, which means it can have child thigs. It's based on the XML above, which is not so clear to see from the way it's been printed without line-breaks and indentations.\n"
   ]
  },
  {
   "cell_type": "code",
   "execution_count": 8,
   "metadata": {
    "collapsed": true
   },
   "outputs": [],
   "source": [
    "tocRoot = ElementTree.fromstring(tocFile)"
   ]
  },
  {
   "cell_type": "markdown",
   "metadata": {},
   "source": [
    "The xml element tree class has a function \"iter\" which iterates recursively through the whole tree, but as will be seen, it does it all on one level, you don't really get a feel for which things are children and which are parents. So I'll need to write a better function."
   ]
  },
  {
   "cell_type": "code",
   "execution_count": 9,
   "metadata": {
    "collapsed": false
   },
   "outputs": [
    {
     "name": "stdout",
     "output_type": "stream",
     "text": [
      "<Element '{http://www.daisy.org/z3986/2005/ncx/}ncx' at 0x7fa50c37d318>\n",
      "<Element '{http://www.daisy.org/z3986/2005/ncx/}head' at 0x7fa50c37d3b8>\n",
      "<Element '{http://www.daisy.org/z3986/2005/ncx/}meta' at 0x7fa50c37d458>\n",
      "<Element '{http://www.daisy.org/z3986/2005/ncx/}meta' at 0x7fa50c37d4a8>\n",
      "<Element '{http://www.daisy.org/z3986/2005/ncx/}meta' at 0x7fa50c37d4f8>\n",
      "<Element '{http://www.daisy.org/z3986/2005/ncx/}meta' at 0x7fa50c37d548>\n",
      "<Element '{http://www.daisy.org/z3986/2005/ncx/}docTitle' at 0x7fa50c37d5e8>\n",
      "<Element '{http://www.daisy.org/z3986/2005/ncx/}text' at 0x7fa50c37d688>\n",
      "<Element '{http://www.daisy.org/z3986/2005/ncx/}navMap' at 0x7fa50c37d728>\n",
      "<Element '{http://www.daisy.org/z3986/2005/ncx/}navPoint' at 0x7fa50c37d7c8>\n",
      "<Element '{http://www.daisy.org/z3986/2005/ncx/}navLabel' at 0x7fa50c37d868>\n",
      "<Element '{http://www.daisy.org/z3986/2005/ncx/}text' at 0x7fa50c37d8b8>\n",
      "<Element '{http://www.daisy.org/z3986/2005/ncx/}content' at 0x7fa50c37d958>\n",
      "<Element '{http://www.daisy.org/z3986/2005/ncx/}navPoint' at 0x7fa50c37d9a8>\n",
      "<Element '{http://www.daisy.org/z3986/2005/ncx/}navLabel' at 0x7fa50c37d9f8>\n",
      "<Element '{http://www.daisy.org/z3986/2005/ncx/}text' at 0x7fa50c37da48>\n",
      "<Element '{http://www.daisy.org/z3986/2005/ncx/}content' at 0x7fa50c37da98>\n",
      "<Element '{http://www.daisy.org/z3986/2005/ncx/}navPoint' at 0x7fa50c37dae8>\n",
      "<Element '{http://www.daisy.org/z3986/2005/ncx/}navLabel' at 0x7fa50c37db38>\n",
      "<Element '{http://www.daisy.org/z3986/2005/ncx/}text' at 0x7fa50c37db88>\n",
      "<Element '{http://www.daisy.org/z3986/2005/ncx/}content' at 0x7fa50c37dc28>\n",
      "<Element '{http://www.daisy.org/z3986/2005/ncx/}navPoint' at 0x7fa50c37dc78>\n",
      "<Element '{http://www.daisy.org/z3986/2005/ncx/}navLabel' at 0x7fa50c37dcc8>\n",
      "<Element '{http://www.daisy.org/z3986/2005/ncx/}text' at 0x7fa50c37dd18>\n",
      "<Element '{http://www.daisy.org/z3986/2005/ncx/}content' at 0x7fa50c37ddb8>\n",
      "<Element '{http://www.daisy.org/z3986/2005/ncx/}navPoint' at 0x7fa50c37de08>\n",
      "<Element '{http://www.daisy.org/z3986/2005/ncx/}navLabel' at 0x7fa50c37de58>\n",
      "<Element '{http://www.daisy.org/z3986/2005/ncx/}text' at 0x7fa50c37dea8>\n",
      "<Element '{http://www.daisy.org/z3986/2005/ncx/}content' at 0x7fa50c37def8>\n",
      "<Element '{http://www.daisy.org/z3986/2005/ncx/}navPoint' at 0x7fa50c37df48>\n",
      "<Element '{http://www.daisy.org/z3986/2005/ncx/}navLabel' at 0x7fa50c37df98>\n",
      "<Element '{http://www.daisy.org/z3986/2005/ncx/}text' at 0x7fa50c384048>\n",
      "<Element '{http://www.daisy.org/z3986/2005/ncx/}content' at 0x7fa50c384098>\n",
      "<Element '{http://www.daisy.org/z3986/2005/ncx/}navPoint' at 0x7fa50c3840e8>\n",
      "<Element '{http://www.daisy.org/z3986/2005/ncx/}navLabel' at 0x7fa50c384138>\n",
      "<Element '{http://www.daisy.org/z3986/2005/ncx/}text' at 0x7fa50c384188>\n",
      "<Element '{http://www.daisy.org/z3986/2005/ncx/}content' at 0x7fa50c384228>\n",
      "<Element '{http://www.daisy.org/z3986/2005/ncx/}navPoint' at 0x7fa50c384278>\n",
      "<Element '{http://www.daisy.org/z3986/2005/ncx/}navLabel' at 0x7fa50c3842c8>\n",
      "<Element '{http://www.daisy.org/z3986/2005/ncx/}text' at 0x7fa50c384318>\n",
      "<Element '{http://www.daisy.org/z3986/2005/ncx/}content' at 0x7fa50c384368>\n",
      "<Element '{http://www.daisy.org/z3986/2005/ncx/}navPoint' at 0x7fa50c3843b8>\n",
      "<Element '{http://www.daisy.org/z3986/2005/ncx/}navLabel' at 0x7fa50c384408>\n",
      "<Element '{http://www.daisy.org/z3986/2005/ncx/}text' at 0x7fa50c384458>\n",
      "<Element '{http://www.daisy.org/z3986/2005/ncx/}content' at 0x7fa50c3844a8>\n",
      "<Element '{http://www.daisy.org/z3986/2005/ncx/}navPoint' at 0x7fa50c3844f8>\n",
      "<Element '{http://www.daisy.org/z3986/2005/ncx/}navLabel' at 0x7fa50c384548>\n",
      "<Element '{http://www.daisy.org/z3986/2005/ncx/}text' at 0x7fa50c384598>\n",
      "<Element '{http://www.daisy.org/z3986/2005/ncx/}content' at 0x7fa50c3845e8>\n",
      "<Element '{http://www.daisy.org/z3986/2005/ncx/}navPoint' at 0x7fa50c384638>\n",
      "<Element '{http://www.daisy.org/z3986/2005/ncx/}navLabel' at 0x7fa50c384688>\n",
      "<Element '{http://www.daisy.org/z3986/2005/ncx/}text' at 0x7fa50c3846d8>\n",
      "<Element '{http://www.daisy.org/z3986/2005/ncx/}content' at 0x7fa50c384728>\n",
      "<Element '{http://www.daisy.org/z3986/2005/ncx/}navPoint' at 0x7fa50c384778>\n",
      "<Element '{http://www.daisy.org/z3986/2005/ncx/}navLabel' at 0x7fa50c3847c8>\n",
      "<Element '{http://www.daisy.org/z3986/2005/ncx/}text' at 0x7fa50c384818>\n",
      "<Element '{http://www.daisy.org/z3986/2005/ncx/}content' at 0x7fa50c384868>\n",
      "<Element '{http://www.daisy.org/z3986/2005/ncx/}navPoint' at 0x7fa50c3848b8>\n",
      "<Element '{http://www.daisy.org/z3986/2005/ncx/}navLabel' at 0x7fa50c384908>\n",
      "<Element '{http://www.daisy.org/z3986/2005/ncx/}text' at 0x7fa50c384958>\n",
      "<Element '{http://www.daisy.org/z3986/2005/ncx/}content' at 0x7fa50c3849a8>\n",
      "<Element '{http://www.daisy.org/z3986/2005/ncx/}navPoint' at 0x7fa50c3849f8>\n",
      "<Element '{http://www.daisy.org/z3986/2005/ncx/}navLabel' at 0x7fa50c384a48>\n",
      "<Element '{http://www.daisy.org/z3986/2005/ncx/}text' at 0x7fa50c384a98>\n",
      "<Element '{http://www.daisy.org/z3986/2005/ncx/}content' at 0x7fa50c384ae8>\n",
      "<Element '{http://www.daisy.org/z3986/2005/ncx/}navPoint' at 0x7fa50c384b38>\n",
      "<Element '{http://www.daisy.org/z3986/2005/ncx/}navLabel' at 0x7fa50c384b88>\n",
      "<Element '{http://www.daisy.org/z3986/2005/ncx/}text' at 0x7fa50c384bd8>\n",
      "<Element '{http://www.daisy.org/z3986/2005/ncx/}content' at 0x7fa50c384c28>\n",
      "<Element '{http://www.daisy.org/z3986/2005/ncx/}navPoint' at 0x7fa50c384c78>\n",
      "<Element '{http://www.daisy.org/z3986/2005/ncx/}navLabel' at 0x7fa50c384cc8>\n",
      "<Element '{http://www.daisy.org/z3986/2005/ncx/}text' at 0x7fa50c384d18>\n",
      "<Element '{http://www.daisy.org/z3986/2005/ncx/}content' at 0x7fa50c384d68>\n",
      "<Element '{http://www.daisy.org/z3986/2005/ncx/}navPoint' at 0x7fa50c384db8>\n",
      "<Element '{http://www.daisy.org/z3986/2005/ncx/}navLabel' at 0x7fa50c384e08>\n",
      "<Element '{http://www.daisy.org/z3986/2005/ncx/}text' at 0x7fa50c384e58>\n",
      "<Element '{http://www.daisy.org/z3986/2005/ncx/}content' at 0x7fa50c384ea8>\n",
      "<Element '{http://www.daisy.org/z3986/2005/ncx/}navPoint' at 0x7fa50c384ef8>\n",
      "<Element '{http://www.daisy.org/z3986/2005/ncx/}navLabel' at 0x7fa50c384f48>\n",
      "<Element '{http://www.daisy.org/z3986/2005/ncx/}text' at 0x7fa50c384f98>\n",
      "<Element '{http://www.daisy.org/z3986/2005/ncx/}content' at 0x7fa50c386048>\n",
      "<Element '{http://www.daisy.org/z3986/2005/ncx/}navPoint' at 0x7fa50c386098>\n",
      "<Element '{http://www.daisy.org/z3986/2005/ncx/}navLabel' at 0x7fa50c3860e8>\n",
      "<Element '{http://www.daisy.org/z3986/2005/ncx/}text' at 0x7fa50c386138>\n",
      "<Element '{http://www.daisy.org/z3986/2005/ncx/}content' at 0x7fa50c386188>\n",
      "<Element '{http://www.daisy.org/z3986/2005/ncx/}navPoint' at 0x7fa50c3861d8>\n",
      "<Element '{http://www.daisy.org/z3986/2005/ncx/}navLabel' at 0x7fa50c386228>\n",
      "<Element '{http://www.daisy.org/z3986/2005/ncx/}text' at 0x7fa50c386278>\n",
      "<Element '{http://www.daisy.org/z3986/2005/ncx/}content' at 0x7fa50c3862c8>\n",
      "<Element '{http://www.daisy.org/z3986/2005/ncx/}navPoint' at 0x7fa50c386318>\n",
      "<Element '{http://www.daisy.org/z3986/2005/ncx/}navLabel' at 0x7fa50c386368>\n",
      "<Element '{http://www.daisy.org/z3986/2005/ncx/}text' at 0x7fa50c3863b8>\n",
      "<Element '{http://www.daisy.org/z3986/2005/ncx/}content' at 0x7fa50c386408>\n",
      "<Element '{http://www.daisy.org/z3986/2005/ncx/}navPoint' at 0x7fa50c386458>\n",
      "<Element '{http://www.daisy.org/z3986/2005/ncx/}navLabel' at 0x7fa50c3864a8>\n",
      "<Element '{http://www.daisy.org/z3986/2005/ncx/}text' at 0x7fa50c3864f8>\n",
      "<Element '{http://www.daisy.org/z3986/2005/ncx/}content' at 0x7fa50c386548>\n",
      "<Element '{http://www.daisy.org/z3986/2005/ncx/}navPoint' at 0x7fa50c386598>\n",
      "<Element '{http://www.daisy.org/z3986/2005/ncx/}navLabel' at 0x7fa50c3865e8>\n",
      "<Element '{http://www.daisy.org/z3986/2005/ncx/}text' at 0x7fa50c386638>\n",
      "<Element '{http://www.daisy.org/z3986/2005/ncx/}content' at 0x7fa50c3866d8>\n",
      "<Element '{http://www.daisy.org/z3986/2005/ncx/}navPoint' at 0x7fa50c386728>\n",
      "<Element '{http://www.daisy.org/z3986/2005/ncx/}navLabel' at 0x7fa50c386778>\n",
      "<Element '{http://www.daisy.org/z3986/2005/ncx/}text' at 0x7fa50c3867c8>\n",
      "<Element '{http://www.daisy.org/z3986/2005/ncx/}content' at 0x7fa50c386818>\n"
     ]
    }
   ],
   "source": [
    "for element in tocRoot.iter():\n",
    "    print(element)"
   ]
  },
  {
   "cell_type": "markdown",
   "metadata": {},
   "source": [
    "Before I get started with that though, I need to remove the annoying URL at the beginning of the tag:"
   ]
  },
  {
   "cell_type": "code",
   "execution_count": 10,
   "metadata": {
    "collapsed": false
   },
   "outputs": [
    {
     "name": "stdout",
     "output_type": "stream",
     "text": [
      "navPoint\n"
     ]
    }
   ],
   "source": [
    "annoying_string = \"{http://www.daisy.org/z3986/2005/ncx/}navPoint\"\n",
    "print(annoying_string[38:]) # Determined empirically\n",
    "#del(annoying_string)"
   ]
  },
  {
   "cell_type": "code",
   "execution_count": 11,
   "metadata": {
    "collapsed": false
   },
   "outputs": [],
   "source": [
    "def recurseElementTree(etree, indent=0):\n",
    "    print(\"\\t\"*indent + \"Tag: \" + etree.tag[38:])\n",
    "    #print(\"\\t\"*indent + \"Attrib: \" +str(etree.attrib))\n",
    "    if etree.text != None:\n",
    "        print(\"\\t\"*indent + \"Text: \" + etree.text)\n",
    "        # Note, this is how to print the text in each element. <tag>This is the stuff I mean.</tag>\n",
    "    length = len(etree)\n",
    "    #print(\"\\t\"*indent + str(length))\n",
    "    if length != 0:\n",
    "        for child in etree:\n",
    "            recurseElementTree(child, indent + 1)\n",
    "    \n",
    "    # Reasonably happy with this function for the time being."
   ]
  },
  {
   "cell_type": "code",
   "execution_count": 12,
   "metadata": {
    "collapsed": false
   },
   "outputs": [
    {
     "name": "stdout",
     "output_type": "stream",
     "text": [
      "Tag: ncx\n",
      "\tTag: head\n",
      "\t\tTag: meta\n",
      "\t\tTag: meta\n",
      "\t\tTag: meta\n",
      "\t\tTag: meta\n",
      "\tTag: docTitle\n",
      "\t\tTag: text\n",
      "\t\tText: Book of Mormon\n",
      "\tTag: navMap\n",
      "\t\tTag: navPoint\n",
      "\t\t\tTag: navLabel\n",
      "\t\t\t\tTag: text\n",
      "\t\t\t\tText: Title Page\n",
      "\t\t\tTag: content\n",
      "\t\tTag: navPoint\n",
      "\t\t\tTag: navLabel\n",
      "\t\t\t\tTag: text\n",
      "\t\t\t\tText: Introduction\n",
      "\t\t\tTag: content\n",
      "\t\tTag: navPoint\n",
      "\t\t\tTag: navLabel\n",
      "\t\t\t\tTag: text\n",
      "\t\t\t\tText: Testimony of Three Witnesses\n",
      "\t\t\tTag: content\n",
      "\t\tTag: navPoint\n",
      "\t\t\tTag: navLabel\n",
      "\t\t\t\tTag: text\n",
      "\t\t\t\tText: Testimony of Eight Witnesses\n",
      "\t\t\tTag: content\n",
      "\t\tTag: navPoint\n",
      "\t\t\tTag: navLabel\n",
      "\t\t\t\tTag: text\n",
      "\t\t\t\tText: Testimony of the Prophet Joseph Smith\n",
      "\t\t\tTag: content\n",
      "\t\tTag: navPoint\n",
      "\t\t\tTag: navLabel\n",
      "\t\t\t\tTag: text\n",
      "\t\t\t\tText: Brief Explanation\n",
      "\t\t\tTag: content\n",
      "\t\tTag: navPoint\n",
      "\t\t\tTag: navLabel\n",
      "\t\t\t\tTag: text\n",
      "\t\t\t\tText: Illustrations\n",
      "\t\t\tTag: content\n",
      "\t\tTag: navPoint\n",
      "\t\t\tTag: navLabel\n",
      "\t\t\t\tTag: text\n",
      "\t\t\t\tText: 1 Nephi\n",
      "\t\t\tTag: content\n",
      "\t\tTag: navPoint\n",
      "\t\t\tTag: navLabel\n",
      "\t\t\t\tTag: text\n",
      "\t\t\t\tText: 2 Nephi\n",
      "\t\t\tTag: content\n",
      "\t\tTag: navPoint\n",
      "\t\t\tTag: navLabel\n",
      "\t\t\t\tTag: text\n",
      "\t\t\t\tText: Jacob\n",
      "\t\t\tTag: content\n",
      "\t\tTag: navPoint\n",
      "\t\t\tTag: navLabel\n",
      "\t\t\t\tTag: text\n",
      "\t\t\t\tText: Enos\n",
      "\t\t\tTag: content\n",
      "\t\tTag: navPoint\n",
      "\t\t\tTag: navLabel\n",
      "\t\t\t\tTag: text\n",
      "\t\t\t\tText: Jarom\n",
      "\t\t\tTag: content\n",
      "\t\tTag: navPoint\n",
      "\t\t\tTag: navLabel\n",
      "\t\t\t\tTag: text\n",
      "\t\t\t\tText: Omni\n",
      "\t\t\tTag: content\n",
      "\t\tTag: navPoint\n",
      "\t\t\tTag: navLabel\n",
      "\t\t\t\tTag: text\n",
      "\t\t\t\tText: Words of Mormon\n",
      "\t\t\tTag: content\n",
      "\t\tTag: navPoint\n",
      "\t\t\tTag: navLabel\n",
      "\t\t\t\tTag: text\n",
      "\t\t\t\tText: Mosiah\n",
      "\t\t\tTag: content\n",
      "\t\tTag: navPoint\n",
      "\t\t\tTag: navLabel\n",
      "\t\t\t\tTag: text\n",
      "\t\t\t\tText: Alma\n",
      "\t\t\tTag: content\n",
      "\t\tTag: navPoint\n",
      "\t\t\tTag: navLabel\n",
      "\t\t\t\tTag: text\n",
      "\t\t\t\tText: Helaman\n",
      "\t\t\tTag: content\n",
      "\t\tTag: navPoint\n",
      "\t\t\tTag: navLabel\n",
      "\t\t\t\tTag: text\n",
      "\t\t\t\tText: 3 Nephi\n",
      "\t\t\tTag: content\n",
      "\t\tTag: navPoint\n",
      "\t\t\tTag: navLabel\n",
      "\t\t\t\tTag: text\n",
      "\t\t\t\tText: 4 Nephi\n",
      "\t\t\tTag: content\n",
      "\t\tTag: navPoint\n",
      "\t\t\tTag: navLabel\n",
      "\t\t\t\tTag: text\n",
      "\t\t\t\tText: Mormon\n",
      "\t\t\tTag: content\n",
      "\t\tTag: navPoint\n",
      "\t\t\tTag: navLabel\n",
      "\t\t\t\tTag: text\n",
      "\t\t\t\tText: Ether\n",
      "\t\t\tTag: content\n",
      "\t\tTag: navPoint\n",
      "\t\t\tTag: navLabel\n",
      "\t\t\t\tTag: text\n",
      "\t\t\t\tText: Moroni\n",
      "\t\t\tTag: content\n",
      "\t\tTag: navPoint\n",
      "\t\t\tTag: navLabel\n",
      "\t\t\t\tTag: text\n",
      "\t\t\t\tText: Pronunciation Guide\n",
      "\t\t\tTag: content\n",
      "\t\tTag: navPoint\n",
      "\t\t\tTag: navLabel\n",
      "\t\t\t\tTag: text\n",
      "\t\t\t\tText: Reference Guide\n",
      "\t\t\tTag: content\n"
     ]
    }
   ],
   "source": [
    "recurseElementTree(tocRoot)"
   ]
  },
  {
   "cell_type": "markdown",
   "metadata": {},
   "source": [
    "Looking just at the first lower level, you'll see that there are three subitems:"
   ]
  },
  {
   "cell_type": "code",
   "execution_count": 13,
   "metadata": {
    "collapsed": false
   },
   "outputs": [
    {
     "name": "stdout",
     "output_type": "stream",
     "text": [
      "<Element '{http://www.daisy.org/z3986/2005/ncx/}head' at 0x7fa50c37d3b8>\n",
      "<Element '{http://www.daisy.org/z3986/2005/ncx/}docTitle' at 0x7fa50c37d5e8>\n",
      "<Element '{http://www.daisy.org/z3986/2005/ncx/}navMap' at 0x7fa50c37d728>\n"
     ]
    }
   ],
   "source": [
    "for element in tocRoot:\n",
    "    print(element)"
   ]
  },
  {
   "cell_type": "markdown",
   "metadata": {},
   "source": [
    "This \"navMap\" thing is the XML block which has the actual table of contents in it, which produced most of the above output.\n",
    "\n",
    "It probably makes clickable links in the epub as well, but I'm not terribly worried about that for my purposes."
   ]
  },
  {
   "cell_type": "code",
   "execution_count": 14,
   "metadata": {
    "collapsed": true
   },
   "outputs": [],
   "source": [
    "tocNavMap = tocRoot[2]"
   ]
  },
  {
   "cell_type": "code",
   "execution_count": 15,
   "metadata": {
    "collapsed": false
   },
   "outputs": [
    {
     "name": "stdout",
     "output_type": "stream",
     "text": [
      "<Element '{http://www.daisy.org/z3986/2005/ncx/}navPoint' at 0x7fa50c37d7c8>\n",
      "<Element '{http://www.daisy.org/z3986/2005/ncx/}navPoint' at 0x7fa50c37d9a8>\n",
      "<Element '{http://www.daisy.org/z3986/2005/ncx/}navPoint' at 0x7fa50c37dae8>\n",
      "<Element '{http://www.daisy.org/z3986/2005/ncx/}navPoint' at 0x7fa50c37dc78>\n",
      "<Element '{http://www.daisy.org/z3986/2005/ncx/}navPoint' at 0x7fa50c37de08>\n",
      "<Element '{http://www.daisy.org/z3986/2005/ncx/}navPoint' at 0x7fa50c37df48>\n",
      "<Element '{http://www.daisy.org/z3986/2005/ncx/}navPoint' at 0x7fa50c3840e8>\n",
      "<Element '{http://www.daisy.org/z3986/2005/ncx/}navPoint' at 0x7fa50c384278>\n",
      "<Element '{http://www.daisy.org/z3986/2005/ncx/}navPoint' at 0x7fa50c3843b8>\n",
      "<Element '{http://www.daisy.org/z3986/2005/ncx/}navPoint' at 0x7fa50c3844f8>\n",
      "<Element '{http://www.daisy.org/z3986/2005/ncx/}navPoint' at 0x7fa50c384638>\n",
      "<Element '{http://www.daisy.org/z3986/2005/ncx/}navPoint' at 0x7fa50c384778>\n",
      "<Element '{http://www.daisy.org/z3986/2005/ncx/}navPoint' at 0x7fa50c3848b8>\n",
      "<Element '{http://www.daisy.org/z3986/2005/ncx/}navPoint' at 0x7fa50c3849f8>\n",
      "<Element '{http://www.daisy.org/z3986/2005/ncx/}navPoint' at 0x7fa50c384b38>\n",
      "<Element '{http://www.daisy.org/z3986/2005/ncx/}navPoint' at 0x7fa50c384c78>\n",
      "<Element '{http://www.daisy.org/z3986/2005/ncx/}navPoint' at 0x7fa50c384db8>\n",
      "<Element '{http://www.daisy.org/z3986/2005/ncx/}navPoint' at 0x7fa50c384ef8>\n",
      "<Element '{http://www.daisy.org/z3986/2005/ncx/}navPoint' at 0x7fa50c386098>\n",
      "<Element '{http://www.daisy.org/z3986/2005/ncx/}navPoint' at 0x7fa50c3861d8>\n",
      "<Element '{http://www.daisy.org/z3986/2005/ncx/}navPoint' at 0x7fa50c386318>\n",
      "<Element '{http://www.daisy.org/z3986/2005/ncx/}navPoint' at 0x7fa50c386458>\n",
      "<Element '{http://www.daisy.org/z3986/2005/ncx/}navPoint' at 0x7fa50c386598>\n",
      "<Element '{http://www.daisy.org/z3986/2005/ncx/}navPoint' at 0x7fa50c386728>\n"
     ]
    }
   ],
   "source": [
    "for element in tocNavMap:\n",
    "    print(element)"
   ]
  },
  {
   "cell_type": "markdown",
   "metadata": {
    "collapsed": false
   },
   "source": [
    "These navPoints aren't immediately obvious from the highest level, but if we use a bit of Python kung-fu based on the recursion that earlier, then I can populate a list of the books."
   ]
  },
  {
   "cell_type": "code",
   "execution_count": 16,
   "metadata": {
    "collapsed": false
   },
   "outputs": [
    {
     "name": "stdout",
     "output_type": "stream",
     "text": [
      "bofm_bofm-title.xhtml\n",
      "bofm_introduction.xhtml\n",
      "bofm_three.xhtml\n",
      "bofm_eight.xhtml\n",
      "bofm_js.xhtml\n",
      "bofm_explanation.xhtml\n",
      "bofm-illustrations.xhtml\n",
      "1-ne.xhtml\n",
      "2-ne.xhtml\n",
      "jacob.xhtml\n",
      "enos.xhtml\n",
      "jarom.xhtml\n",
      "omni.xhtml\n",
      "w-of-m.xhtml\n",
      "mosiah.xhtml\n",
      "alma.xhtml\n",
      "hel.xhtml\n",
      "3-ne.xhtml\n",
      "4-ne.xhtml\n",
      "morm.xhtml\n",
      "ether.xhtml\n",
      "moro.xhtml\n",
      "bofm_pronunciation.xhtml\n",
      "bofm_reference.xhtml\n"
     ]
    }
   ],
   "source": [
    "# Extract the individual item paths from the navMap.\n",
    "tocItems = [item[1].attrib[\"src\"] for item in tocNavMap]\n",
    "for item in tocItems:\n",
    "    print(item)"
   ]
  },
  {
   "cell_type": "markdown",
   "metadata": {},
   "source": [
    "Okay, now what to do with them? This isn't entirely obvious from the get-go.\n",
    "\n",
    "TODO: Decide from here. Think about the structure of the book a bit more. What am I going to do about the different levels of 'books', 'chapters' and 'verses'? I've got some code here but it quite likely needs re-thinking.\n",
    "\n",
    "Each of these is an XML (specifically XHTML) file in the epub, so we could extract 'roots' from each of them."
   ]
  },
  {
   "cell_type": "code",
   "execution_count": 17,
   "metadata": {
    "collapsed": true
   },
   "outputs": [],
   "source": [
    "# Get the same XML roots for each individual item in the TOC.\n",
    "tocItemsRoots = [ElementTree.fromstring(BoMEpub.read(\"OEBPS/%s\"%item)) for item in tocItems]"
   ]
  },
  {
   "cell_type": "code",
   "execution_count": 27,
   "metadata": {
    "collapsed": false
   },
   "outputs": [
    {
     "name": "stdout",
     "output_type": "stream",
     "text": [
      "Chapter: bofm_bofm-title\n",
      "Book: 1-ne\n",
      "Book: 2-ne\n",
      "Book: jacob\n",
      "Book: enos\n",
      "Book: jarom\n",
      "Book: omni\n",
      "Book: w-of-m\n",
      "Book: mosiah\n",
      "Book: alma\n",
      "Book: hel\n",
      "Book: 3-ne\n",
      "Book: 4-ne\n",
      "Book: morm\n",
      "Book: ether\n",
      "Book: moro\n"
     ]
    }
   ],
   "source": [
    "chapterFileList = []\n",
    "bookFileList = []\n",
    "\n",
    "for item in tocItemsRoots:\n",
    "    if \"chapter\" in item[1].attrib[\"class\"]:\n",
    "        # In the root, the things listed as \"chapters\" are mostly introductions and witnesses, as well as the appendix.\n",
    "        # The only thing of ancient origin is the title page, so we'll exclude all the other stuff.\n",
    "        if \"title\" in item[1].attrib[\"class\"]:\n",
    "            print(\"Chapter: {0}\".format(item[1].attrib[\"class\"][len(\"chapter\") + 1:]))\n",
    "            #print(\"Chapter: {0}\".format(item[1].attrib[\"class\"]))\n",
    "            chapterFileList.append(BoMEpub.read(\"OEBPS/{0}.xhtml\".format(item[1].attrib[\"class\"][len(\"chapter\") + 1:])))\n",
    "    elif \"book\" in item[1].attrib[\"class\"]:\n",
    "        # One thing listed as a book is the illustrations for some reason. We will exclude this.\n",
    "        if \"illustrations\" not in item[1].attrib[\"class\"]:\n",
    "            print(\"Book: {0}\".format(item[1].attrib[\"class\"][len(\"book\") + 1:]))\n",
    "            #print(\"Book: {0}\".format(item[1].attrib[\"class\"]))\n",
    "            bookFileList.append(BoMEpub.read(\"OEBPS/{0}.xhtml\".format(item[1].attrib[\"class\"][len(\"book\") + 1:])))\n",
    "    else:\n",
    "        # Catch-all just in case. There shouldn't be any of these.\n",
    "        print(\"Other item: {0}\".format(item[1].attrib[\"class\"]))\n",
    "        \n",
    "# Note: the \"class\" strings have \"book \" or \"chapter \" in them, which are not part of the filenames so I'll remove them.\n",
    "# The list generated here should just be able to have \".xhtml\" appended to every string to get a filename."
   ]
  },
  {
   "cell_type": "code",
   "execution_count": 30,
   "metadata": {
    "collapsed": false
   },
   "outputs": [
    {
     "name": "stdout",
     "output_type": "stream",
     "text": [
      "Tag: \n",
      "\tTag: \n",
      "\t\tTag: \n",
      "\t\tTag: \n",
      "\t\tText: title page of the Book of Mormon\n",
      "\t\tTag: \n",
      "\t\tTag: \n",
      "\t\tTag: \n",
      "\tTag: \n",
      "\t\tTag: \n",
      "\t\t\tTag: \n",
      "\t\t\tText: The \n",
      "\t\t\t\tTag: \n",
      "\t\t\t\tTag: \n",
      "\t\t\t\tText: Book of Mormon\n",
      "\t\t\tTag: \n",
      "\t\t\tText: An Account Written by \n",
      "\t\t\t\tTag: \n",
      "\t\t\t\tTag: \n",
      "\t\t\t\tText: the Hand of Mormon\n",
      "\t\t\t\tTag: \n",
      "\t\t\t\tTag: \n",
      "\t\tTag: \n",
      "\t\t\tTag: \n",
      "\t\t\tText: Wherefore, it is an abridgment of the record of the people of Nephi, and also of the Lamanites—Written to the Lamanites, who are a remnant of the house of Israel; and also to Jew and Gentile—Written by way of commandment, and also by the spirit of prophecy and of revelation—Written and sealed up, and hid up unto the Lord, that they might not be destroyed—To come forth by the gift and power of God unto the interpretation thereof—Sealed by the hand of Moroni, and hid up unto the Lord, to come forth in due time by way of the Gentile—The interpretation thereof by the gift of God.\n",
      "\t\t\tTag: \n",
      "\t\t\tText: An abridgment taken from the Book of Ether also, which is a record of the people of Jared, who were scattered at the time the Lord confounded the language of the people, when they were building a tower to get to heaven—Which is to show unto the remnant of the house of Israel what great things the Lord hath done for their fathers; and that they may know the covenants of the Lord, that they are not cast off forever—And also to the convincing of the Jew and Gentile that \n",
      "\t\t\t\tTag: \n",
      "\t\t\t\tText: Jesus\n",
      "\t\t\t\tTag: \n",
      "\t\t\t\tText: Christ\n",
      "\t\t\t\tTag: \n",
      "\t\t\t\tText: Eternal God\n",
      "\t\t\tTag: \n",
      "\t\t\t\tTag: \n",
      "\t\t\t\tText: Translated by Joseph Smith\n",
      "\t\t\t\tTag: \n",
      "\t\t\t\tText: Jun\n"
     ]
    }
   ],
   "source": [
    "recurseElementTree(ElementTree.fromstring(chapterFileList[0]))"
   ]
  },
  {
   "cell_type": "code",
   "execution_count": 20,
   "metadata": {
    "collapsed": false
   },
   "outputs": [
    {
     "name": "stdout",
     "output_type": "stream",
     "text": [
      "{'title': '1 Nephi', 'class': 'title', 'id': 'lds_1-ne_title'}\n",
      "{'class': 'subtitle'}\n",
      "{'class': 'intro', 'id': 'lds_1-ne_intro'}\n",
      "{'title': '2 Nephi', 'class': 'title', 'id': 'lds_2-ne_title'}\n",
      "{'class': 'intro', 'id': 'lds_2-ne_intro'}\n",
      "{'title': 'Jacob', 'class': 'title', 'id': 'lds_jacob_title'}\n",
      "{'class': 'intro', 'id': 'lds_jacob_intro'}\n",
      "{'title': 'Enos', 'class': 'title', 'id': 'lds_enos_title'}\n",
      "{'class': 'titleNumber', 'id': 'lds_enos_1_title'}\n",
      "{'class': 'studySummary', 'id': 'lds_enos_1_intro'}\n",
      "{'title': 'Jarom', 'class': 'title', 'id': 'lds_jarom_title'}\n",
      "{'class': 'titleNumber', 'id': 'lds_jarom_1_title'}\n",
      "{'class': 'studySummary', 'id': 'lds_jarom_1_intro'}\n",
      "{'title': 'Omni', 'class': 'title', 'id': 'lds_omni_title'}\n",
      "{'class': 'titleNumber', 'id': 'lds_omni_1_title'}\n",
      "{'class': 'studySummary', 'id': 'lds_omni_1_intro'}\n",
      "{'title': 'Words of Mormon', 'class': 'title', 'id': 'lds_w-of-m_title'}\n",
      "{'class': 'titleNumber', 'id': 'lds_w-of-m_1_title'}\n",
      "{'class': 'studySummary', 'id': 'lds_w-of-m_1_intro'}\n",
      "{'title': 'Mosiah', 'class': 'title', 'id': 'lds_mosiah_title'}\n",
      "{'title': 'Alma', 'class': 'title', 'id': 'lds_alma_title'}\n",
      "{'class': 'intro', 'id': 'lds_alma_intro'}\n",
      "{'title': 'Helaman', 'class': 'title', 'id': 'lds_hel_title'}\n",
      "{'class': 'intro', 'id': 'lds_hel_intro'}\n",
      "{'title': '3 Nephi', 'class': 'title', 'id': 'lds_3-ne_title'}\n",
      "{'title': '3 Nephi', 'class': 'title'}\n",
      "{'class': 'intro', 'id': 'lds_3-ne_intro'}\n",
      "{'title': '4 Nephi', 'class': 'title', 'id': 'lds_4-ne_title'}\n",
      "{'title': '4 Nephi', 'class': 'title'}\n",
      "{'class': 'intro', 'id': 'lds_4-ne_intro'}\n",
      "{'class': 'titleNumber', 'id': 'lds_4-ne_1_title'}\n",
      "{'class': 'studySummary', 'id': 'lds_4-ne_1_intro'}\n",
      "{'title': 'Mormon', 'class': 'title', 'id': 'lds_morm_title'}\n",
      "{'title': 'Ether', 'class': 'title', 'id': 'lds_ether_title'}\n",
      "{'class': 'studyIntro', 'id': 'lds_ether_intro'}\n",
      "{'title': 'Moroni', 'class': 'title', 'id': 'lds_moro_title'}\n"
     ]
    }
   ],
   "source": [
    "bookRootList = []\n",
    "for file in bookFileList:\n",
    "    bookRootList.append(ElementTree.fromstring(file))\n",
    "    for child in bookRootList[-1][1][0]:\n",
    "        print(child.attrib)"
   ]
  },
  {
   "cell_type": "code",
   "execution_count": null,
   "metadata": {
    "collapsed": true
   },
   "outputs": [],
   "source": []
  }
 ],
 "metadata": {
  "kernelspec": {
   "display_name": "Python 3",
   "language": "python",
   "name": "python3"
  },
  "language_info": {
   "codemirror_mode": {
    "name": "ipython",
    "version": 3
   },
   "file_extension": ".py",
   "mimetype": "text/x-python",
   "name": "python",
   "nbconvert_exporter": "python",
   "pygments_lexer": "ipython3",
   "version": "3.4.3"
  }
 },
 "nbformat": 4,
 "nbformat_minor": 0
}
